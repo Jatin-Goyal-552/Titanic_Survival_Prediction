{
 "cells": [
  {
   "cell_type": "code",
   "execution_count": 1,
   "metadata": {
    "_cell_guid": "b1076dfc-b9ad-4769-8c92-a6c4dae69d19",
    "_uuid": "8f2839f25d086af736a60e9eeb907d3b93b6e0e5",
    "execution": {
     "iopub.execute_input": "2021-03-13T07:46:19.029928Z",
     "iopub.status.busy": "2021-03-13T07:46:19.029099Z",
     "iopub.status.idle": "2021-03-13T07:46:19.033977Z",
     "shell.execute_reply": "2021-03-13T07:46:19.034527Z"
    },
    "papermill": {
     "duration": 0.054043,
     "end_time": "2021-03-13T07:46:19.034832",
     "exception": false,
     "start_time": "2021-03-13T07:46:18.980789",
     "status": "completed"
    },
    "tags": []
   },
   "outputs": [
    {
     "name": "stdout",
     "output_type": "stream",
     "text": [
      "/kaggle/input/titanic/train.csv\n",
      "/kaggle/input/titanic/test.csv\n",
      "/kaggle/input/titanic/gender_submission.csv\n"
     ]
    }
   ],
   "source": [
    "# This Python 3 environment comes with many helpful analytics libraries installed\n",
    "# It is defined by the kaggle/python Docker image: https://github.com/kaggle/docker-python\n",
    "# For example, here's several helpful packages to load\n",
    "\n",
    "import numpy as np # linear algebra\n",
    "import pandas as pd # data processing, CSV file I/O (e.g. pd.read_csv)\n",
    "\n",
    "# Input data files are available in the read-only \"../input/\" directory\n",
    "# For example, running this (by clicking run or pressing Shift+Enter) will list all files under the input directory\n",
    "\n",
    "import os\n",
    "for dirname, _, filenames in os.walk('/kaggle/input'):\n",
    "    for filename in filenames:\n",
    "        print(os.path.join(dirname, filename))\n",
    "\n",
    "# You can write up to 20GB to the current directory (/kaggle/working/) that gets preserved as output when you create a version using \"Save & Run All\" \n",
    "# You can also write temporary files to /kaggle/temp/, but they won't be saved outside of the current session"
   ]
  },
  {
   "cell_type": "code",
   "execution_count": 2,
   "metadata": {
    "execution": {
     "iopub.execute_input": "2021-03-13T07:46:19.122685Z",
     "iopub.status.busy": "2021-03-13T07:46:19.121675Z",
     "iopub.status.idle": "2021-03-13T07:46:19.140685Z",
     "shell.execute_reply": "2021-03-13T07:46:19.141229Z"
    },
    "papermill": {
     "duration": 0.064839,
     "end_time": "2021-03-13T07:46:19.141424",
     "exception": false,
     "start_time": "2021-03-13T07:46:19.076585",
     "status": "completed"
    },
    "tags": []
   },
   "outputs": [],
   "source": [
    "df=pd.read_csv(\"/kaggle/input/titanic/train.csv\")"
   ]
  },
  {
   "cell_type": "code",
   "execution_count": 3,
   "metadata": {
    "execution": {
     "iopub.execute_input": "2021-03-13T07:46:19.227926Z",
     "iopub.status.busy": "2021-03-13T07:46:19.227023Z",
     "iopub.status.idle": "2021-03-13T07:46:19.261686Z",
     "shell.execute_reply": "2021-03-13T07:46:19.262154Z"
    },
    "papermill": {
     "duration": 0.07903,
     "end_time": "2021-03-13T07:46:19.262318",
     "exception": false,
     "start_time": "2021-03-13T07:46:19.183288",
     "status": "completed"
    },
    "tags": []
   },
   "outputs": [
    {
     "data": {
      "text/html": [
       "<div>\n",
       "<style scoped>\n",
       "    .dataframe tbody tr th:only-of-type {\n",
       "        vertical-align: middle;\n",
       "    }\n",
       "\n",
       "    .dataframe tbody tr th {\n",
       "        vertical-align: top;\n",
       "    }\n",
       "\n",
       "    .dataframe thead th {\n",
       "        text-align: right;\n",
       "    }\n",
       "</style>\n",
       "<table border=\"1\" class=\"dataframe\">\n",
       "  <thead>\n",
       "    <tr style=\"text-align: right;\">\n",
       "      <th></th>\n",
       "      <th>PassengerId</th>\n",
       "      <th>Survived</th>\n",
       "      <th>Pclass</th>\n",
       "      <th>Name</th>\n",
       "      <th>Sex</th>\n",
       "      <th>Age</th>\n",
       "      <th>SibSp</th>\n",
       "      <th>Parch</th>\n",
       "      <th>Ticket</th>\n",
       "      <th>Fare</th>\n",
       "      <th>Cabin</th>\n",
       "      <th>Embarked</th>\n",
       "    </tr>\n",
       "  </thead>\n",
       "  <tbody>\n",
       "    <tr>\n",
       "      <th>0</th>\n",
       "      <td>1</td>\n",
       "      <td>0</td>\n",
       "      <td>3</td>\n",
       "      <td>Braund, Mr. Owen Harris</td>\n",
       "      <td>male</td>\n",
       "      <td>22.0</td>\n",
       "      <td>1</td>\n",
       "      <td>0</td>\n",
       "      <td>A/5 21171</td>\n",
       "      <td>7.2500</td>\n",
       "      <td>NaN</td>\n",
       "      <td>S</td>\n",
       "    </tr>\n",
       "    <tr>\n",
       "      <th>1</th>\n",
       "      <td>2</td>\n",
       "      <td>1</td>\n",
       "      <td>1</td>\n",
       "      <td>Cumings, Mrs. John Bradley (Florence Briggs Th...</td>\n",
       "      <td>female</td>\n",
       "      <td>38.0</td>\n",
       "      <td>1</td>\n",
       "      <td>0</td>\n",
       "      <td>PC 17599</td>\n",
       "      <td>71.2833</td>\n",
       "      <td>C85</td>\n",
       "      <td>C</td>\n",
       "    </tr>\n",
       "    <tr>\n",
       "      <th>2</th>\n",
       "      <td>3</td>\n",
       "      <td>1</td>\n",
       "      <td>3</td>\n",
       "      <td>Heikkinen, Miss. Laina</td>\n",
       "      <td>female</td>\n",
       "      <td>26.0</td>\n",
       "      <td>0</td>\n",
       "      <td>0</td>\n",
       "      <td>STON/O2. 3101282</td>\n",
       "      <td>7.9250</td>\n",
       "      <td>NaN</td>\n",
       "      <td>S</td>\n",
       "    </tr>\n",
       "    <tr>\n",
       "      <th>3</th>\n",
       "      <td>4</td>\n",
       "      <td>1</td>\n",
       "      <td>1</td>\n",
       "      <td>Futrelle, Mrs. Jacques Heath (Lily May Peel)</td>\n",
       "      <td>female</td>\n",
       "      <td>35.0</td>\n",
       "      <td>1</td>\n",
       "      <td>0</td>\n",
       "      <td>113803</td>\n",
       "      <td>53.1000</td>\n",
       "      <td>C123</td>\n",
       "      <td>S</td>\n",
       "    </tr>\n",
       "    <tr>\n",
       "      <th>4</th>\n",
       "      <td>5</td>\n",
       "      <td>0</td>\n",
       "      <td>3</td>\n",
       "      <td>Allen, Mr. William Henry</td>\n",
       "      <td>male</td>\n",
       "      <td>35.0</td>\n",
       "      <td>0</td>\n",
       "      <td>0</td>\n",
       "      <td>373450</td>\n",
       "      <td>8.0500</td>\n",
       "      <td>NaN</td>\n",
       "      <td>S</td>\n",
       "    </tr>\n",
       "    <tr>\n",
       "      <th>5</th>\n",
       "      <td>6</td>\n",
       "      <td>0</td>\n",
       "      <td>3</td>\n",
       "      <td>Moran, Mr. James</td>\n",
       "      <td>male</td>\n",
       "      <td>NaN</td>\n",
       "      <td>0</td>\n",
       "      <td>0</td>\n",
       "      <td>330877</td>\n",
       "      <td>8.4583</td>\n",
       "      <td>NaN</td>\n",
       "      <td>Q</td>\n",
       "    </tr>\n",
       "    <tr>\n",
       "      <th>6</th>\n",
       "      <td>7</td>\n",
       "      <td>0</td>\n",
       "      <td>1</td>\n",
       "      <td>McCarthy, Mr. Timothy J</td>\n",
       "      <td>male</td>\n",
       "      <td>54.0</td>\n",
       "      <td>0</td>\n",
       "      <td>0</td>\n",
       "      <td>17463</td>\n",
       "      <td>51.8625</td>\n",
       "      <td>E46</td>\n",
       "      <td>S</td>\n",
       "    </tr>\n",
       "    <tr>\n",
       "      <th>7</th>\n",
       "      <td>8</td>\n",
       "      <td>0</td>\n",
       "      <td>3</td>\n",
       "      <td>Palsson, Master. Gosta Leonard</td>\n",
       "      <td>male</td>\n",
       "      <td>2.0</td>\n",
       "      <td>3</td>\n",
       "      <td>1</td>\n",
       "      <td>349909</td>\n",
       "      <td>21.0750</td>\n",
       "      <td>NaN</td>\n",
       "      <td>S</td>\n",
       "    </tr>\n",
       "    <tr>\n",
       "      <th>8</th>\n",
       "      <td>9</td>\n",
       "      <td>1</td>\n",
       "      <td>3</td>\n",
       "      <td>Johnson, Mrs. Oscar W (Elisabeth Vilhelmina Berg)</td>\n",
       "      <td>female</td>\n",
       "      <td>27.0</td>\n",
       "      <td>0</td>\n",
       "      <td>2</td>\n",
       "      <td>347742</td>\n",
       "      <td>11.1333</td>\n",
       "      <td>NaN</td>\n",
       "      <td>S</td>\n",
       "    </tr>\n",
       "    <tr>\n",
       "      <th>9</th>\n",
       "      <td>10</td>\n",
       "      <td>1</td>\n",
       "      <td>2</td>\n",
       "      <td>Nasser, Mrs. Nicholas (Adele Achem)</td>\n",
       "      <td>female</td>\n",
       "      <td>14.0</td>\n",
       "      <td>1</td>\n",
       "      <td>0</td>\n",
       "      <td>237736</td>\n",
       "      <td>30.0708</td>\n",
       "      <td>NaN</td>\n",
       "      <td>C</td>\n",
       "    </tr>\n",
       "  </tbody>\n",
       "</table>\n",
       "</div>"
      ],
      "text/plain": [
       "   PassengerId  Survived  Pclass  \\\n",
       "0            1         0       3   \n",
       "1            2         1       1   \n",
       "2            3         1       3   \n",
       "3            4         1       1   \n",
       "4            5         0       3   \n",
       "5            6         0       3   \n",
       "6            7         0       1   \n",
       "7            8         0       3   \n",
       "8            9         1       3   \n",
       "9           10         1       2   \n",
       "\n",
       "                                                Name     Sex   Age  SibSp  \\\n",
       "0                            Braund, Mr. Owen Harris    male  22.0      1   \n",
       "1  Cumings, Mrs. John Bradley (Florence Briggs Th...  female  38.0      1   \n",
       "2                             Heikkinen, Miss. Laina  female  26.0      0   \n",
       "3       Futrelle, Mrs. Jacques Heath (Lily May Peel)  female  35.0      1   \n",
       "4                           Allen, Mr. William Henry    male  35.0      0   \n",
       "5                                   Moran, Mr. James    male   NaN      0   \n",
       "6                            McCarthy, Mr. Timothy J    male  54.0      0   \n",
       "7                     Palsson, Master. Gosta Leonard    male   2.0      3   \n",
       "8  Johnson, Mrs. Oscar W (Elisabeth Vilhelmina Berg)  female  27.0      0   \n",
       "9                Nasser, Mrs. Nicholas (Adele Achem)  female  14.0      1   \n",
       "\n",
       "   Parch            Ticket     Fare Cabin Embarked  \n",
       "0      0         A/5 21171   7.2500   NaN        S  \n",
       "1      0          PC 17599  71.2833   C85        C  \n",
       "2      0  STON/O2. 3101282   7.9250   NaN        S  \n",
       "3      0            113803  53.1000  C123        S  \n",
       "4      0            373450   8.0500   NaN        S  \n",
       "5      0            330877   8.4583   NaN        Q  \n",
       "6      0             17463  51.8625   E46        S  \n",
       "7      1            349909  21.0750   NaN        S  \n",
       "8      2            347742  11.1333   NaN        S  \n",
       "9      0            237736  30.0708   NaN        C  "
      ]
     },
     "execution_count": 3,
     "metadata": {},
     "output_type": "execute_result"
    }
   ],
   "source": [
    "df.head(10)"
   ]
  },
  {
   "cell_type": "code",
   "execution_count": 4,
   "metadata": {
    "execution": {
     "iopub.execute_input": "2021-03-13T07:46:19.349843Z",
     "iopub.status.busy": "2021-03-13T07:46:19.348970Z",
     "iopub.status.idle": "2021-03-13T07:46:19.358075Z",
     "shell.execute_reply": "2021-03-13T07:46:19.357481Z"
    },
    "papermill": {
     "duration": 0.053602,
     "end_time": "2021-03-13T07:46:19.358216",
     "exception": false,
     "start_time": "2021-03-13T07:46:19.304614",
     "status": "completed"
    },
    "tags": []
   },
   "outputs": [
    {
     "data": {
      "text/plain": [
       "PassengerId      0\n",
       "Survived         0\n",
       "Pclass           0\n",
       "Name             0\n",
       "Sex              0\n",
       "Age            177\n",
       "SibSp            0\n",
       "Parch            0\n",
       "Ticket           0\n",
       "Fare             0\n",
       "Cabin          687\n",
       "Embarked         2\n",
       "dtype: int64"
      ]
     },
     "execution_count": 4,
     "metadata": {},
     "output_type": "execute_result"
    }
   ],
   "source": [
    "df.isnull().sum()"
   ]
  },
  {
   "cell_type": "code",
   "execution_count": 5,
   "metadata": {
    "execution": {
     "iopub.execute_input": "2021-03-13T07:46:19.446548Z",
     "iopub.status.busy": "2021-03-13T07:46:19.445966Z",
     "iopub.status.idle": "2021-03-13T07:46:19.450143Z",
     "shell.execute_reply": "2021-03-13T07:46:19.450531Z"
    },
    "papermill": {
     "duration": 0.04963,
     "end_time": "2021-03-13T07:46:19.450704",
     "exception": false,
     "start_time": "2021-03-13T07:46:19.401074",
     "status": "completed"
    },
    "tags": []
   },
   "outputs": [
    {
     "data": {
      "text/plain": [
       "(891, 12)"
      ]
     },
     "execution_count": 5,
     "metadata": {},
     "output_type": "execute_result"
    }
   ],
   "source": [
    "df.shape"
   ]
  },
  {
   "cell_type": "code",
   "execution_count": 6,
   "metadata": {
    "execution": {
     "iopub.execute_input": "2021-03-13T07:46:19.539479Z",
     "iopub.status.busy": "2021-03-13T07:46:19.538883Z",
     "iopub.status.idle": "2021-03-13T07:46:19.543414Z",
     "shell.execute_reply": "2021-03-13T07:46:19.543812Z"
    },
    "papermill": {
     "duration": 0.050556,
     "end_time": "2021-03-13T07:46:19.543979",
     "exception": false,
     "start_time": "2021-03-13T07:46:19.493423",
     "status": "completed"
    },
    "tags": []
   },
   "outputs": [],
   "source": [
    "df=df.drop('Cabin',axis=1)"
   ]
  },
  {
   "cell_type": "code",
   "execution_count": 7,
   "metadata": {
    "execution": {
     "iopub.execute_input": "2021-03-13T07:46:19.632764Z",
     "iopub.status.busy": "2021-03-13T07:46:19.632195Z",
     "iopub.status.idle": "2021-03-13T07:46:19.639917Z",
     "shell.execute_reply": "2021-03-13T07:46:19.639339Z"
    },
    "papermill": {
     "duration": 0.053259,
     "end_time": "2021-03-13T07:46:19.640086",
     "exception": false,
     "start_time": "2021-03-13T07:46:19.586827",
     "status": "completed"
    },
    "tags": []
   },
   "outputs": [
    {
     "data": {
      "text/plain": [
       "PassengerId      0\n",
       "Survived         0\n",
       "Pclass           0\n",
       "Name             0\n",
       "Sex              0\n",
       "Age            177\n",
       "SibSp            0\n",
       "Parch            0\n",
       "Ticket           0\n",
       "Fare             0\n",
       "Embarked         2\n",
       "dtype: int64"
      ]
     },
     "execution_count": 7,
     "metadata": {},
     "output_type": "execute_result"
    }
   ],
   "source": [
    "df.isnull().sum()"
   ]
  },
  {
   "cell_type": "code",
   "execution_count": 8,
   "metadata": {
    "execution": {
     "iopub.execute_input": "2021-03-13T07:46:19.733917Z",
     "iopub.status.busy": "2021-03-13T07:46:19.732967Z",
     "iopub.status.idle": "2021-03-13T07:46:19.736995Z",
     "shell.execute_reply": "2021-03-13T07:46:19.737500Z"
    },
    "papermill": {
     "duration": 0.053679,
     "end_time": "2021-03-13T07:46:19.737665",
     "exception": false,
     "start_time": "2021-03-13T07:46:19.683986",
     "status": "completed"
    },
    "tags": []
   },
   "outputs": [
    {
     "data": {
      "text/plain": [
       "29.69911764705882"
      ]
     },
     "execution_count": 8,
     "metadata": {},
     "output_type": "execute_result"
    }
   ],
   "source": [
    "df['Age'].mean()"
   ]
  },
  {
   "cell_type": "code",
   "execution_count": 9,
   "metadata": {
    "execution": {
     "iopub.execute_input": "2021-03-13T07:46:19.829625Z",
     "iopub.status.busy": "2021-03-13T07:46:19.828597Z",
     "iopub.status.idle": "2021-03-13T07:46:19.833920Z",
     "shell.execute_reply": "2021-03-13T07:46:19.834402Z"
    },
    "papermill": {
     "duration": 0.053131,
     "end_time": "2021-03-13T07:46:19.834584",
     "exception": false,
     "start_time": "2021-03-13T07:46:19.781453",
     "status": "completed"
    },
    "tags": []
   },
   "outputs": [],
   "source": [
    "df['Age']=df['Age'].replace(np.NaN,df['Age'].mean())"
   ]
  },
  {
   "cell_type": "code",
   "execution_count": 10,
   "metadata": {
    "execution": {
     "iopub.execute_input": "2021-03-13T07:46:19.927271Z",
     "iopub.status.busy": "2021-03-13T07:46:19.926569Z",
     "iopub.status.idle": "2021-03-13T07:46:19.941094Z",
     "shell.execute_reply": "2021-03-13T07:46:19.941613Z"
    },
    "papermill": {
     "duration": 0.061857,
     "end_time": "2021-03-13T07:46:19.941810",
     "exception": false,
     "start_time": "2021-03-13T07:46:19.879953",
     "status": "completed"
    },
    "tags": []
   },
   "outputs": [
    {
     "data": {
      "text/html": [
       "<div>\n",
       "<style scoped>\n",
       "    .dataframe tbody tr th:only-of-type {\n",
       "        vertical-align: middle;\n",
       "    }\n",
       "\n",
       "    .dataframe tbody tr th {\n",
       "        vertical-align: top;\n",
       "    }\n",
       "\n",
       "    .dataframe thead th {\n",
       "        text-align: right;\n",
       "    }\n",
       "</style>\n",
       "<table border=\"1\" class=\"dataframe\">\n",
       "  <thead>\n",
       "    <tr style=\"text-align: right;\">\n",
       "      <th></th>\n",
       "      <th>PassengerId</th>\n",
       "      <th>Survived</th>\n",
       "      <th>Pclass</th>\n",
       "      <th>Name</th>\n",
       "      <th>Sex</th>\n",
       "      <th>Age</th>\n",
       "      <th>SibSp</th>\n",
       "      <th>Parch</th>\n",
       "      <th>Ticket</th>\n",
       "      <th>Fare</th>\n",
       "      <th>Embarked</th>\n",
       "    </tr>\n",
       "  </thead>\n",
       "  <tbody>\n",
       "    <tr>\n",
       "      <th>0</th>\n",
       "      <td>1</td>\n",
       "      <td>0</td>\n",
       "      <td>3</td>\n",
       "      <td>Braund, Mr. Owen Harris</td>\n",
       "      <td>male</td>\n",
       "      <td>22.000000</td>\n",
       "      <td>1</td>\n",
       "      <td>0</td>\n",
       "      <td>A/5 21171</td>\n",
       "      <td>7.2500</td>\n",
       "      <td>S</td>\n",
       "    </tr>\n",
       "    <tr>\n",
       "      <th>1</th>\n",
       "      <td>2</td>\n",
       "      <td>1</td>\n",
       "      <td>1</td>\n",
       "      <td>Cumings, Mrs. John Bradley (Florence Briggs Th...</td>\n",
       "      <td>female</td>\n",
       "      <td>38.000000</td>\n",
       "      <td>1</td>\n",
       "      <td>0</td>\n",
       "      <td>PC 17599</td>\n",
       "      <td>71.2833</td>\n",
       "      <td>C</td>\n",
       "    </tr>\n",
       "    <tr>\n",
       "      <th>2</th>\n",
       "      <td>3</td>\n",
       "      <td>1</td>\n",
       "      <td>3</td>\n",
       "      <td>Heikkinen, Miss. Laina</td>\n",
       "      <td>female</td>\n",
       "      <td>26.000000</td>\n",
       "      <td>0</td>\n",
       "      <td>0</td>\n",
       "      <td>STON/O2. 3101282</td>\n",
       "      <td>7.9250</td>\n",
       "      <td>S</td>\n",
       "    </tr>\n",
       "    <tr>\n",
       "      <th>3</th>\n",
       "      <td>4</td>\n",
       "      <td>1</td>\n",
       "      <td>1</td>\n",
       "      <td>Futrelle, Mrs. Jacques Heath (Lily May Peel)</td>\n",
       "      <td>female</td>\n",
       "      <td>35.000000</td>\n",
       "      <td>1</td>\n",
       "      <td>0</td>\n",
       "      <td>113803</td>\n",
       "      <td>53.1000</td>\n",
       "      <td>S</td>\n",
       "    </tr>\n",
       "    <tr>\n",
       "      <th>4</th>\n",
       "      <td>5</td>\n",
       "      <td>0</td>\n",
       "      <td>3</td>\n",
       "      <td>Allen, Mr. William Henry</td>\n",
       "      <td>male</td>\n",
       "      <td>35.000000</td>\n",
       "      <td>0</td>\n",
       "      <td>0</td>\n",
       "      <td>373450</td>\n",
       "      <td>8.0500</td>\n",
       "      <td>S</td>\n",
       "    </tr>\n",
       "    <tr>\n",
       "      <th>5</th>\n",
       "      <td>6</td>\n",
       "      <td>0</td>\n",
       "      <td>3</td>\n",
       "      <td>Moran, Mr. James</td>\n",
       "      <td>male</td>\n",
       "      <td>29.699118</td>\n",
       "      <td>0</td>\n",
       "      <td>0</td>\n",
       "      <td>330877</td>\n",
       "      <td>8.4583</td>\n",
       "      <td>Q</td>\n",
       "    </tr>\n",
       "    <tr>\n",
       "      <th>6</th>\n",
       "      <td>7</td>\n",
       "      <td>0</td>\n",
       "      <td>1</td>\n",
       "      <td>McCarthy, Mr. Timothy J</td>\n",
       "      <td>male</td>\n",
       "      <td>54.000000</td>\n",
       "      <td>0</td>\n",
       "      <td>0</td>\n",
       "      <td>17463</td>\n",
       "      <td>51.8625</td>\n",
       "      <td>S</td>\n",
       "    </tr>\n",
       "    <tr>\n",
       "      <th>7</th>\n",
       "      <td>8</td>\n",
       "      <td>0</td>\n",
       "      <td>3</td>\n",
       "      <td>Palsson, Master. Gosta Leonard</td>\n",
       "      <td>male</td>\n",
       "      <td>2.000000</td>\n",
       "      <td>3</td>\n",
       "      <td>1</td>\n",
       "      <td>349909</td>\n",
       "      <td>21.0750</td>\n",
       "      <td>S</td>\n",
       "    </tr>\n",
       "    <tr>\n",
       "      <th>8</th>\n",
       "      <td>9</td>\n",
       "      <td>1</td>\n",
       "      <td>3</td>\n",
       "      <td>Johnson, Mrs. Oscar W (Elisabeth Vilhelmina Berg)</td>\n",
       "      <td>female</td>\n",
       "      <td>27.000000</td>\n",
       "      <td>0</td>\n",
       "      <td>2</td>\n",
       "      <td>347742</td>\n",
       "      <td>11.1333</td>\n",
       "      <td>S</td>\n",
       "    </tr>\n",
       "    <tr>\n",
       "      <th>9</th>\n",
       "      <td>10</td>\n",
       "      <td>1</td>\n",
       "      <td>2</td>\n",
       "      <td>Nasser, Mrs. Nicholas (Adele Achem)</td>\n",
       "      <td>female</td>\n",
       "      <td>14.000000</td>\n",
       "      <td>1</td>\n",
       "      <td>0</td>\n",
       "      <td>237736</td>\n",
       "      <td>30.0708</td>\n",
       "      <td>C</td>\n",
       "    </tr>\n",
       "  </tbody>\n",
       "</table>\n",
       "</div>"
      ],
      "text/plain": [
       "   PassengerId  Survived  Pclass  \\\n",
       "0            1         0       3   \n",
       "1            2         1       1   \n",
       "2            3         1       3   \n",
       "3            4         1       1   \n",
       "4            5         0       3   \n",
       "5            6         0       3   \n",
       "6            7         0       1   \n",
       "7            8         0       3   \n",
       "8            9         1       3   \n",
       "9           10         1       2   \n",
       "\n",
       "                                                Name     Sex        Age  \\\n",
       "0                            Braund, Mr. Owen Harris    male  22.000000   \n",
       "1  Cumings, Mrs. John Bradley (Florence Briggs Th...  female  38.000000   \n",
       "2                             Heikkinen, Miss. Laina  female  26.000000   \n",
       "3       Futrelle, Mrs. Jacques Heath (Lily May Peel)  female  35.000000   \n",
       "4                           Allen, Mr. William Henry    male  35.000000   \n",
       "5                                   Moran, Mr. James    male  29.699118   \n",
       "6                            McCarthy, Mr. Timothy J    male  54.000000   \n",
       "7                     Palsson, Master. Gosta Leonard    male   2.000000   \n",
       "8  Johnson, Mrs. Oscar W (Elisabeth Vilhelmina Berg)  female  27.000000   \n",
       "9                Nasser, Mrs. Nicholas (Adele Achem)  female  14.000000   \n",
       "\n",
       "   SibSp  Parch            Ticket     Fare Embarked  \n",
       "0      1      0         A/5 21171   7.2500        S  \n",
       "1      1      0          PC 17599  71.2833        C  \n",
       "2      0      0  STON/O2. 3101282   7.9250        S  \n",
       "3      1      0            113803  53.1000        S  \n",
       "4      0      0            373450   8.0500        S  \n",
       "5      0      0            330877   8.4583        Q  \n",
       "6      0      0             17463  51.8625        S  \n",
       "7      3      1            349909  21.0750        S  \n",
       "8      0      2            347742  11.1333        S  \n",
       "9      1      0            237736  30.0708        C  "
      ]
     },
     "execution_count": 10,
     "metadata": {},
     "output_type": "execute_result"
    }
   ],
   "source": [
    "df.head(10)"
   ]
  },
  {
   "cell_type": "code",
   "execution_count": 11,
   "metadata": {
    "execution": {
     "iopub.execute_input": "2021-03-13T07:46:20.034083Z",
     "iopub.status.busy": "2021-03-13T07:46:20.033446Z",
     "iopub.status.idle": "2021-03-13T07:46:20.040851Z",
     "shell.execute_reply": "2021-03-13T07:46:20.040282Z"
    },
    "papermill": {
     "duration": 0.054299,
     "end_time": "2021-03-13T07:46:20.040984",
     "exception": false,
     "start_time": "2021-03-13T07:46:19.986685",
     "status": "completed"
    },
    "tags": []
   },
   "outputs": [
    {
     "data": {
      "text/plain": [
       "PassengerId    0\n",
       "Survived       0\n",
       "Pclass         0\n",
       "Name           0\n",
       "Sex            0\n",
       "Age            0\n",
       "SibSp          0\n",
       "Parch          0\n",
       "Ticket         0\n",
       "Fare           0\n",
       "Embarked       2\n",
       "dtype: int64"
      ]
     },
     "execution_count": 11,
     "metadata": {},
     "output_type": "execute_result"
    }
   ],
   "source": [
    "df.isnull().sum()"
   ]
  },
  {
   "cell_type": "code",
   "execution_count": 12,
   "metadata": {
    "execution": {
     "iopub.execute_input": "2021-03-13T07:46:20.136170Z",
     "iopub.status.busy": "2021-03-13T07:46:20.135172Z",
     "iopub.status.idle": "2021-03-13T07:46:20.142945Z",
     "shell.execute_reply": "2021-03-13T07:46:20.143411Z"
    },
    "papermill": {
     "duration": 0.056976,
     "end_time": "2021-03-13T07:46:20.143591",
     "exception": false,
     "start_time": "2021-03-13T07:46:20.086615",
     "status": "completed"
    },
    "tags": []
   },
   "outputs": [
    {
     "data": {
      "text/plain": [
       "PassengerId    0\n",
       "Survived       0\n",
       "Pclass         0\n",
       "Name           0\n",
       "Sex            0\n",
       "Age            0\n",
       "SibSp          0\n",
       "Parch          0\n",
       "Ticket         0\n",
       "Fare           0\n",
       "Embarked       2\n",
       "dtype: int64"
      ]
     },
     "execution_count": 12,
     "metadata": {},
     "output_type": "execute_result"
    }
   ],
   "source": [
    "df.isnull().sum()"
   ]
  },
  {
   "cell_type": "code",
   "execution_count": 13,
   "metadata": {
    "execution": {
     "iopub.execute_input": "2021-03-13T07:46:20.238976Z",
     "iopub.status.busy": "2021-03-13T07:46:20.238014Z",
     "iopub.status.idle": "2021-03-13T07:46:20.261564Z",
     "shell.execute_reply": "2021-03-13T07:46:20.261014Z"
    },
    "papermill": {
     "duration": 0.072496,
     "end_time": "2021-03-13T07:46:20.261722",
     "exception": false,
     "start_time": "2021-03-13T07:46:20.189226",
     "status": "completed"
    },
    "tags": []
   },
   "outputs": [],
   "source": [
    "df.dropna(inplace=True)"
   ]
  },
  {
   "cell_type": "code",
   "execution_count": 14,
   "metadata": {
    "execution": {
     "iopub.execute_input": "2021-03-13T07:46:20.355246Z",
     "iopub.status.busy": "2021-03-13T07:46:20.354552Z",
     "iopub.status.idle": "2021-03-13T07:46:20.361258Z",
     "shell.execute_reply": "2021-03-13T07:46:20.361713Z"
    },
    "papermill": {
     "duration": 0.054948,
     "end_time": "2021-03-13T07:46:20.361884",
     "exception": false,
     "start_time": "2021-03-13T07:46:20.306936",
     "status": "completed"
    },
    "tags": []
   },
   "outputs": [
    {
     "data": {
      "text/plain": [
       "PassengerId    0\n",
       "Survived       0\n",
       "Pclass         0\n",
       "Name           0\n",
       "Sex            0\n",
       "Age            0\n",
       "SibSp          0\n",
       "Parch          0\n",
       "Ticket         0\n",
       "Fare           0\n",
       "Embarked       0\n",
       "dtype: int64"
      ]
     },
     "execution_count": 14,
     "metadata": {},
     "output_type": "execute_result"
    }
   ],
   "source": [
    "df.isnull().sum()"
   ]
  },
  {
   "cell_type": "code",
   "execution_count": 15,
   "metadata": {
    "execution": {
     "iopub.execute_input": "2021-03-13T07:46:20.454798Z",
     "iopub.status.busy": "2021-03-13T07:46:20.454167Z",
     "iopub.status.idle": "2021-03-13T07:46:20.460204Z",
     "shell.execute_reply": "2021-03-13T07:46:20.459697Z"
    },
    "papermill": {
     "duration": 0.053427,
     "end_time": "2021-03-13T07:46:20.460346",
     "exception": false,
     "start_time": "2021-03-13T07:46:20.406919",
     "status": "completed"
    },
    "tags": []
   },
   "outputs": [
    {
     "data": {
      "text/plain": [
       "(889, 11)"
      ]
     },
     "execution_count": 15,
     "metadata": {},
     "output_type": "execute_result"
    }
   ],
   "source": [
    "df.shape"
   ]
  },
  {
   "cell_type": "code",
   "execution_count": 16,
   "metadata": {
    "execution": {
     "iopub.execute_input": "2021-03-13T07:46:20.557274Z",
     "iopub.status.busy": "2021-03-13T07:46:20.556325Z",
     "iopub.status.idle": "2021-03-13T07:46:20.559834Z",
     "shell.execute_reply": "2021-03-13T07:46:20.560296Z"
    },
    "papermill": {
     "duration": 0.05382,
     "end_time": "2021-03-13T07:46:20.560460",
     "exception": false,
     "start_time": "2021-03-13T07:46:20.506640",
     "status": "completed"
    },
    "tags": []
   },
   "outputs": [
    {
     "data": {
      "text/plain": [
       "Index(['PassengerId', 'Survived', 'Pclass', 'Name', 'Sex', 'Age', 'SibSp',\n",
       "       'Parch', 'Ticket', 'Fare', 'Embarked'],\n",
       "      dtype='object')"
      ]
     },
     "execution_count": 16,
     "metadata": {},
     "output_type": "execute_result"
    }
   ],
   "source": [
    "df.columns"
   ]
  },
  {
   "cell_type": "code",
   "execution_count": 17,
   "metadata": {
    "execution": {
     "iopub.execute_input": "2021-03-13T07:46:20.655786Z",
     "iopub.status.busy": "2021-03-13T07:46:20.654852Z",
     "iopub.status.idle": "2021-03-13T07:46:21.498152Z",
     "shell.execute_reply": "2021-03-13T07:46:21.497603Z"
    },
    "papermill": {
     "duration": 0.892105,
     "end_time": "2021-03-13T07:46:21.498291",
     "exception": false,
     "start_time": "2021-03-13T07:46:20.606186",
     "status": "completed"
    },
    "tags": []
   },
   "outputs": [],
   "source": [
    "import seaborn as sns\n",
    "import warnings\n",
    "warnings.filterwarnings(\"ignore\")\n",
    "import matplotlib.pyplot as plt"
   ]
  },
  {
   "cell_type": "code",
   "execution_count": 18,
   "metadata": {
    "execution": {
     "iopub.execute_input": "2021-03-13T07:46:21.616998Z",
     "iopub.status.busy": "2021-03-13T07:46:21.600961Z",
     "iopub.status.idle": "2021-03-13T07:46:21.733850Z",
     "shell.execute_reply": "2021-03-13T07:46:21.733290Z"
    },
    "papermill": {
     "duration": 0.189744,
     "end_time": "2021-03-13T07:46:21.733980",
     "exception": false,
     "start_time": "2021-03-13T07:46:21.544236",
     "status": "completed"
    },
    "tags": []
   },
   "outputs": [
    {
     "data": {
      "text/plain": [
       "Text(0.5, 1.0, 'No. of male vs female')"
      ]
     },
     "execution_count": 18,
     "metadata": {},
     "output_type": "execute_result"
    },
    {
     "data": {
      "image/png": "[encoded data removed]",
      "text/plain": [
       "<Figure size 432x288 with 1 Axes>"
      ]
     },
     "metadata": {
      "needs_background": "light"
     },
     "output_type": "display_data"
    }
   ],
   "source": [
    "sns.countplot('Sex',data=df)\n",
    "plt.title(\"No. of male vs female\")"
   ]
  },
  {
   "cell_type": "code",
   "execution_count": 19,
   "metadata": {
    "execution": {
     "iopub.execute_input": "2021-03-13T07:46:21.836083Z",
     "iopub.status.busy": "2021-03-13T07:46:21.833925Z",
     "iopub.status.idle": "2021-03-13T07:46:21.952785Z",
     "shell.execute_reply": "2021-03-13T07:46:21.952225Z"
    },
    "papermill": {
     "duration": 0.171241,
     "end_time": "2021-03-13T07:46:21.952917",
     "exception": false,
     "start_time": "2021-03-13T07:46:21.781676",
     "status": "completed"
    },
    "tags": []
   },
   "outputs": [
    {
     "data": {
      "text/plain": [
       "Text(0.5, 1.0, 'No. of class')"
      ]
     },
     "execution_count": 19,
     "metadata": {},
     "output_type": "execute_result"
    },
    {
     "data": {
      "image/png": "[encoded data removed]",
      "text/plain": [
       "<Figure size 432x288 with 1 Axes>"
      ]
     },
     "metadata": {
      "needs_background": "light"
     },
     "output_type": "display_data"
    }
   ],
   "source": [
    "sns.countplot('Pclass',data=df)\n",
    "plt.title(\"No. of class\")"
   ]
  },
  {
   "cell_type": "code",
   "execution_count": 20,
   "metadata": {
    "execution": {
     "iopub.execute_input": "2021-03-13T07:46:22.053570Z",
     "iopub.status.busy": "2021-03-13T07:46:22.052949Z",
     "iopub.status.idle": "2021-03-13T07:46:22.264375Z",
     "shell.execute_reply": "2021-03-13T07:46:22.263903Z"
    },
    "papermill": {
     "duration": 0.263968,
     "end_time": "2021-03-13T07:46:22.264513",
     "exception": false,
     "start_time": "2021-03-13T07:46:22.000545",
     "status": "completed"
    },
    "tags": []
   },
   "outputs": [
    {
     "data": {
      "text/plain": [
       "Text(0.5, 1.0, 'No. of spouses')"
      ]
     },
     "execution_count": 20,
     "metadata": {},
     "output_type": "execute_result"
    },
    {
     "data": {
      "image/png": "[encoded data removed]",
      "text/plain": [
       "<Figure size 432x288 with 1 Axes>"
      ]
     },
     "metadata": {
      "needs_background": "light"
     },
     "output_type": "display_data"
    }
   ],
   "source": [
    "sns.countplot('SibSp',data=df)\n",
    "plt.title(\"No. of spouses\")"
   ]
  },
  {
   "cell_type": "code",
   "execution_count": 21,
   "metadata": {
    "execution": {
     "iopub.execute_input": "2021-03-13T07:46:22.366849Z",
     "iopub.status.busy": "2021-03-13T07:46:22.366289Z",
     "iopub.status.idle": "2021-03-13T07:46:22.369365Z",
     "shell.execute_reply": "2021-03-13T07:46:22.368880Z"
    },
    "papermill": {
     "duration": 0.057022,
     "end_time": "2021-03-13T07:46:22.369495",
     "exception": false,
     "start_time": "2021-03-13T07:46:22.312473",
     "status": "completed"
    },
    "tags": []
   },
   "outputs": [],
   "source": [
    "df['SibSp']=df['SibSp'][df['SibSp']<8]"
   ]
  },
  {
   "cell_type": "code",
   "execution_count": 22,
   "metadata": {
    "execution": {
     "iopub.execute_input": "2021-03-13T07:46:22.471684Z",
     "iopub.status.busy": "2021-03-13T07:46:22.471115Z",
     "iopub.status.idle": "2021-03-13T07:46:22.567992Z",
     "shell.execute_reply": "2021-03-13T07:46:22.568440Z"
    },
    "papermill": {
     "duration": 0.150467,
     "end_time": "2021-03-13T07:46:22.568600",
     "exception": false,
     "start_time": "2021-03-13T07:46:22.418133",
     "status": "completed"
    },
    "tags": []
   },
   "outputs": [
    {
     "data": {
      "text/plain": [
       "Text(0.5, 1.0, 'No. of Survival')"
      ]
     },
     "execution_count": 22,
     "metadata": {},
     "output_type": "execute_result"
    },
    {
     "data": {
      "image/png": "[encoded data removed]",
      "text/plain": [
       "<Figure size 432x288 with 1 Axes>"
      ]
     },
     "metadata": {
      "needs_background": "light"
     },
     "output_type": "display_data"
    }
   ],
   "source": [
    "sns.countplot('Survived',data=df)\n",
    "plt.title(\"No. of Survival\")"
   ]
  },
  {
   "cell_type": "code",
   "execution_count": null,
   "metadata": {
    "papermill": {
     "duration": 0.048536,
     "end_time": "2021-03-13T07:46:22.666109",
     "exception": false,
     "start_time": "2021-03-13T07:46:22.617573",
     "status": "completed"
    },
    "tags": []
   },
   "outputs": [],
   "source": []
  },
  {
   "cell_type": "code",
   "execution_count": 23,
   "metadata": {
    "execution": {
     "iopub.execute_input": "2021-03-13T07:46:22.768444Z",
     "iopub.status.busy": "2021-03-13T07:46:22.767753Z",
     "iopub.status.idle": "2021-03-13T07:46:22.920218Z",
     "shell.execute_reply": "2021-03-13T07:46:22.922767Z"
    },
    "papermill": {
     "duration": 0.207279,
     "end_time": "2021-03-13T07:46:22.922957",
     "exception": false,
     "start_time": "2021-03-13T07:46:22.715678",
     "status": "completed"
    },
    "tags": []
   },
   "outputs": [
    {
     "data": {
      "text/plain": [
       "Text(0.5, 1.0, 'No. of parents child')"
      ]
     },
     "execution_count": 23,
     "metadata": {},
     "output_type": "execute_result"
    },
    {
     "data": {
      "image/png": "[encoded data removed]",
      "text/plain": [
       "<Figure size 432x288 with 1 Axes>"
      ]
     },
     "metadata": {
      "needs_background": "light"
     },
     "output_type": "display_data"
    }
   ],
   "source": [
    "sns.countplot('Parch',data=df)\n",
    "plt.title(\"No. of parents child\")"
   ]
  },
  {
   "cell_type": "code",
   "execution_count": null,
   "metadata": {
    "papermill": {
     "duration": 0.0602,
     "end_time": "2021-03-13T07:46:23.048232",
     "exception": false,
     "start_time": "2021-03-13T07:46:22.988032",
     "status": "completed"
    },
    "tags": []
   },
   "outputs": [],
   "source": []
  },
  {
   "cell_type": "code",
   "execution_count": 24,
   "metadata": {
    "execution": {
     "iopub.execute_input": "2021-03-13T07:46:23.168237Z",
     "iopub.status.busy": "2021-03-13T07:46:23.158422Z",
     "iopub.status.idle": "2021-03-13T07:46:23.265163Z",
     "shell.execute_reply": "2021-03-13T07:46:23.265578Z"
    },
    "papermill": {
     "duration": 0.166848,
     "end_time": "2021-03-13T07:46:23.265750",
     "exception": false,
     "start_time": "2021-03-13T07:46:23.098902",
     "status": "completed"
    },
    "tags": []
   },
   "outputs": [
    {
     "data": {
      "text/plain": [
       "Text(0.5, 1.0, 'No. of embarked')"
      ]
     },
     "execution_count": 24,
     "metadata": {},
     "output_type": "execute_result"
    },
    {
     "data": {
      "image/png": "[encoded data removed]",
      "text/plain": [
       "<Figure size 432x288 with 1 Axes>"
      ]
     },
     "metadata": {
      "needs_background": "light"
     },
     "output_type": "display_data"
    }
   ],
   "source": [
    "sns.countplot('Embarked',data=df)\n",
    "plt.title(\"No. of embarked\")"
   ]
  },
  {
   "cell_type": "code",
   "execution_count": 25,
   "metadata": {
    "execution": {
     "iopub.execute_input": "2021-03-13T07:46:23.370371Z",
     "iopub.status.busy": "2021-03-13T07:46:23.369711Z",
     "iopub.status.idle": "2021-03-13T07:46:23.564674Z",
     "shell.execute_reply": "2021-03-13T07:46:23.564152Z"
    },
    "papermill": {
     "duration": 0.248199,
     "end_time": "2021-03-13T07:46:23.564817",
     "exception": false,
     "start_time": "2021-03-13T07:46:23.316618",
     "status": "completed"
    },
    "tags": []
   },
   "outputs": [
    {
     "data": {
      "text/plain": [
       "Text(0.5, 1.0, 'My Very Own Histogram')"
      ]
     },
     "execution_count": 25,
     "metadata": {},
     "output_type": "execute_result"
    },
    {
     "data": {
      "image/png": "[encoded data removed]",
      "text/plain": [
       "<Figure size 1440x720 with 1 Axes>"
      ]
     },
     "metadata": {
      "needs_background": "light"
     },
     "output_type": "display_data"
    }
   ],
   "source": [
    "plt.figure(figsize=(20,10))\n",
    "n, bins, patches = plt.hist(x=df['Fare'],bins=20)\n",
    "plt.grid(axis='y', alpha=0.75)\n",
    "plt.xlabel('fare')\n",
    "plt.ylabel('Frequency')\n",
    "plt.title('My Very Own Histogram')\n"
   ]
  },
  {
   "cell_type": "code",
   "execution_count": 26,
   "metadata": {
    "execution": {
     "iopub.execute_input": "2021-03-13T07:46:23.694723Z",
     "iopub.status.busy": "2021-03-13T07:46:23.692786Z",
     "iopub.status.idle": "2021-03-13T07:46:23.881002Z",
     "shell.execute_reply": "2021-03-13T07:46:23.880500Z"
    },
    "papermill": {
     "duration": 0.264181,
     "end_time": "2021-03-13T07:46:23.881165",
     "exception": false,
     "start_time": "2021-03-13T07:46:23.616984",
     "status": "completed"
    },
    "tags": []
   },
   "outputs": [
    {
     "data": {
      "text/plain": [
       "Text(0.5, 1.0, 'My Very Own Histogram')"
      ]
     },
     "execution_count": 26,
     "metadata": {},
     "output_type": "execute_result"
    },
    {
     "data": {
      "image/png": "[encoded data removed]",
      "text/plain": [
       "<Figure size 1440x720 with 1 Axes>"
      ]
     },
     "metadata": {
      "needs_background": "light"
     },
     "output_type": "display_data"
    }
   ],
   "source": [
    "plt.figure(figsize=(20,10))\n",
    "n, bins, patches = plt.hist(x=df['Age'],bins=20)\n",
    "plt.grid(axis='y', alpha=0.75)\n",
    "plt.xlabel('fare')\n",
    "plt.ylabel('Frequency')\n",
    "plt.title('My Very Own Histogram')\n"
   ]
  },
  {
   "cell_type": "code",
   "execution_count": 27,
   "metadata": {
    "execution": {
     "iopub.execute_input": "2021-03-13T07:46:23.993559Z",
     "iopub.status.busy": "2021-03-13T07:46:23.992798Z",
     "iopub.status.idle": "2021-03-13T07:46:23.995858Z",
     "shell.execute_reply": "2021-03-13T07:46:23.995389Z"
    },
    "papermill": {
     "duration": 0.061443,
     "end_time": "2021-03-13T07:46:23.995988",
     "exception": false,
     "start_time": "2021-03-13T07:46:23.934545",
     "status": "completed"
    },
    "tags": []
   },
   "outputs": [],
   "source": [
    "df['Fare'] = df['Fare'].apply(lambda x: x if x <300 else None)\n"
   ]
  },
  {
   "cell_type": "code",
   "execution_count": 28,
   "metadata": {
    "execution": {
     "iopub.execute_input": "2021-03-13T07:46:24.109404Z",
     "iopub.status.busy": "2021-03-13T07:46:24.108726Z",
     "iopub.status.idle": "2021-03-13T07:46:24.112682Z",
     "shell.execute_reply": "2021-03-13T07:46:24.111756Z"
    },
    "papermill": {
     "duration": 0.063638,
     "end_time": "2021-03-13T07:46:24.112879",
     "exception": false,
     "start_time": "2021-03-13T07:46:24.049241",
     "status": "completed"
    },
    "tags": []
   },
   "outputs": [
    {
     "data": {
      "text/plain": [
       "PassengerId    0\n",
       "Survived       0\n",
       "Pclass         0\n",
       "Name           0\n",
       "Sex            0\n",
       "Age            0\n",
       "SibSp          7\n",
       "Parch          0\n",
       "Ticket         0\n",
       "Fare           3\n",
       "Embarked       0\n",
       "dtype: int64"
      ]
     },
     "execution_count": 28,
     "metadata": {},
     "output_type": "execute_result"
    }
   ],
   "source": [
    "df.isnull().sum()"
   ]
  },
  {
   "cell_type": "code",
   "execution_count": 29,
   "metadata": {
    "execution": {
     "iopub.execute_input": "2021-03-13T07:46:24.225700Z",
     "iopub.status.busy": "2021-03-13T07:46:24.224713Z",
     "iopub.status.idle": "2021-03-13T07:46:24.230528Z",
     "shell.execute_reply": "2021-03-13T07:46:24.229931Z"
    },
    "papermill": {
     "duration": 0.064843,
     "end_time": "2021-03-13T07:46:24.230662",
     "exception": false,
     "start_time": "2021-03-13T07:46:24.165819",
     "status": "completed"
    },
    "tags": []
   },
   "outputs": [],
   "source": [
    "df.dropna(inplace=True)"
   ]
  },
  {
   "cell_type": "code",
   "execution_count": 30,
   "metadata": {
    "execution": {
     "iopub.execute_input": "2021-03-13T07:46:24.349488Z",
     "iopub.status.busy": "2021-03-13T07:46:24.348522Z",
     "iopub.status.idle": "2021-03-13T07:46:24.549736Z",
     "shell.execute_reply": "2021-03-13T07:46:24.549098Z"
    },
    "papermill": {
     "duration": 0.265479,
     "end_time": "2021-03-13T07:46:24.549876",
     "exception": false,
     "start_time": "2021-03-13T07:46:24.284397",
     "status": "completed"
    },
    "tags": []
   },
   "outputs": [
    {
     "data": {
      "text/plain": [
       "Text(0.5, 1.0, 'Distribution of Fare')"
      ]
     },
     "execution_count": 30,
     "metadata": {},
     "output_type": "execute_result"
    },
    {
     "data": {
      "image/png": "[encoded data removed]",
      "text/plain": [
       "<Figure size 1440x720 with 1 Axes>"
      ]
     },
     "metadata": {
      "needs_background": "light"
     },
     "output_type": "display_data"
    }
   ],
   "source": [
    "plt.figure(figsize=(20,10))\n",
    "n, bins, patches = plt.hist(x=df['Fare'],bins=20)\n",
    "plt.grid(axis='y', alpha=0.75)\n",
    "plt.xlabel('fare')\n",
    "plt.ylabel('Frequency')\n",
    "plt.title('Distribution of Fare')\n"
   ]
  },
  {
   "cell_type": "code",
   "execution_count": 31,
   "metadata": {
    "execution": {
     "iopub.execute_input": "2021-03-13T07:46:24.665916Z",
     "iopub.status.busy": "2021-03-13T07:46:24.663573Z",
     "iopub.status.idle": "2021-03-13T07:46:24.669964Z",
     "shell.execute_reply": "2021-03-13T07:46:24.669478Z"
    },
    "papermill": {
     "duration": 0.065861,
     "end_time": "2021-03-13T07:46:24.670128",
     "exception": false,
     "start_time": "2021-03-13T07:46:24.604267",
     "status": "completed"
    },
    "tags": []
   },
   "outputs": [
    {
     "data": {
      "text/plain": [
       "PassengerId   -0.006125\n",
       "Survived       1.000000\n",
       "Pclass        -0.327629\n",
       "Age           -0.076951\n",
       "SibSp          0.012733\n",
       "Parch          0.098008\n",
       "Fare           0.266726\n",
       "Name: Survived, dtype: float64"
      ]
     },
     "execution_count": 31,
     "metadata": {},
     "output_type": "execute_result"
    }
   ],
   "source": [
    "df.corr()['Survived']"
   ]
  },
  {
   "cell_type": "code",
   "execution_count": 32,
   "metadata": {
    "execution": {
     "iopub.execute_input": "2021-03-13T07:46:24.788137Z",
     "iopub.status.busy": "2021-03-13T07:46:24.787307Z",
     "iopub.status.idle": "2021-03-13T07:46:24.790117Z",
     "shell.execute_reply": "2021-03-13T07:46:24.789660Z"
    },
    "papermill": {
     "duration": 0.063532,
     "end_time": "2021-03-13T07:46:24.790265",
     "exception": false,
     "start_time": "2021-03-13T07:46:24.726733",
     "status": "completed"
    },
    "tags": []
   },
   "outputs": [],
   "source": [
    "df['Sex'] = df['Sex'].apply(lambda x: 1 if x =='male' else 2)\n"
   ]
  },
  {
   "cell_type": "code",
   "execution_count": 33,
   "metadata": {
    "execution": {
     "iopub.execute_input": "2021-03-13T07:46:24.906371Z",
     "iopub.status.busy": "2021-03-13T07:46:24.905632Z",
     "iopub.status.idle": "2021-03-13T07:46:25.090470Z",
     "shell.execute_reply": "2021-03-13T07:46:25.090896Z"
    },
    "papermill": {
     "duration": 0.245934,
     "end_time": "2021-03-13T07:46:25.091096",
     "exception": false,
     "start_time": "2021-03-13T07:46:24.845162",
     "status": "completed"
    },
    "tags": []
   },
   "outputs": [
    {
     "data": {
      "text/html": [
       "<div>\n",
       "<style scoped>\n",
       "    .dataframe tbody tr th:only-of-type {\n",
       "        vertical-align: middle;\n",
       "    }\n",
       "\n",
       "    .dataframe tbody tr th {\n",
       "        vertical-align: top;\n",
       "    }\n",
       "\n",
       "    .dataframe thead th {\n",
       "        text-align: right;\n",
       "    }\n",
       "</style>\n",
       "<table border=\"1\" class=\"dataframe\">\n",
       "  <thead>\n",
       "    <tr style=\"text-align: right;\">\n",
       "      <th></th>\n",
       "      <th>PassengerId</th>\n",
       "      <th>Survived</th>\n",
       "      <th>Pclass</th>\n",
       "      <th>Name</th>\n",
       "      <th>Sex</th>\n",
       "      <th>Age</th>\n",
       "      <th>SibSp</th>\n",
       "      <th>Parch</th>\n",
       "      <th>Ticket</th>\n",
       "      <th>Fare</th>\n",
       "      <th>Embarked</th>\n",
       "    </tr>\n",
       "  </thead>\n",
       "  <tbody>\n",
       "    <tr>\n",
       "      <th>0</th>\n",
       "      <td>1</td>\n",
       "      <td>0</td>\n",
       "      <td>3</td>\n",
       "      <td>Braund, Mr. Owen Harris</td>\n",
       "      <td>1</td>\n",
       "      <td>22.0</td>\n",
       "      <td>1.0</td>\n",
       "      <td>0</td>\n",
       "      <td>A/5 21171</td>\n",
       "      <td>7.2500</td>\n",
       "      <td>2</td>\n",
       "    </tr>\n",
       "    <tr>\n",
       "      <th>1</th>\n",
       "      <td>2</td>\n",
       "      <td>1</td>\n",
       "      <td>1</td>\n",
       "      <td>Cumings, Mrs. John Bradley (Florence Briggs Th...</td>\n",
       "      <td>2</td>\n",
       "      <td>38.0</td>\n",
       "      <td>1.0</td>\n",
       "      <td>0</td>\n",
       "      <td>PC 17599</td>\n",
       "      <td>71.2833</td>\n",
       "      <td>0</td>\n",
       "    </tr>\n",
       "    <tr>\n",
       "      <th>2</th>\n",
       "      <td>3</td>\n",
       "      <td>1</td>\n",
       "      <td>3</td>\n",
       "      <td>Heikkinen, Miss. Laina</td>\n",
       "      <td>2</td>\n",
       "      <td>26.0</td>\n",
       "      <td>0.0</td>\n",
       "      <td>0</td>\n",
       "      <td>STON/O2. 3101282</td>\n",
       "      <td>7.9250</td>\n",
       "      <td>2</td>\n",
       "    </tr>\n",
       "    <tr>\n",
       "      <th>3</th>\n",
       "      <td>4</td>\n",
       "      <td>1</td>\n",
       "      <td>1</td>\n",
       "      <td>Futrelle, Mrs. Jacques Heath (Lily May Peel)</td>\n",
       "      <td>2</td>\n",
       "      <td>35.0</td>\n",
       "      <td>1.0</td>\n",
       "      <td>0</td>\n",
       "      <td>113803</td>\n",
       "      <td>53.1000</td>\n",
       "      <td>2</td>\n",
       "    </tr>\n",
       "    <tr>\n",
       "      <th>4</th>\n",
       "      <td>5</td>\n",
       "      <td>0</td>\n",
       "      <td>3</td>\n",
       "      <td>Allen, Mr. William Henry</td>\n",
       "      <td>1</td>\n",
       "      <td>35.0</td>\n",
       "      <td>0.0</td>\n",
       "      <td>0</td>\n",
       "      <td>373450</td>\n",
       "      <td>8.0500</td>\n",
       "      <td>2</td>\n",
       "    </tr>\n",
       "  </tbody>\n",
       "</table>\n",
       "</div>"
      ],
      "text/plain": [
       "   PassengerId  Survived  Pclass  \\\n",
       "0            1         0       3   \n",
       "1            2         1       1   \n",
       "2            3         1       3   \n",
       "3            4         1       1   \n",
       "4            5         0       3   \n",
       "\n",
       "                                                Name  Sex   Age  SibSp  Parch  \\\n",
       "0                            Braund, Mr. Owen Harris    1  22.0    1.0      0   \n",
       "1  Cumings, Mrs. John Bradley (Florence Briggs Th...    2  38.0    1.0      0   \n",
       "2                             Heikkinen, Miss. Laina    2  26.0    0.0      0   \n",
       "3       Futrelle, Mrs. Jacques Heath (Lily May Peel)    2  35.0    1.0      0   \n",
       "4                           Allen, Mr. William Henry    1  35.0    0.0      0   \n",
       "\n",
       "             Ticket     Fare  Embarked  \n",
       "0         A/5 21171   7.2500         2  \n",
       "1          PC 17599  71.2833         0  \n",
       "2  STON/O2. 3101282   7.9250         2  \n",
       "3            113803  53.1000         2  \n",
       "4            373450   8.0500         2  "
      ]
     },
     "execution_count": 33,
     "metadata": {},
     "output_type": "execute_result"
    }
   ],
   "source": [
    "from sklearn.preprocessing import LabelEncoder\n",
    "\n",
    "labelencoder = LabelEncoder()\n",
    "# Assigning numerical values and storing in another column\n",
    "df['Embarked'] = labelencoder.fit_transform(df['Embarked'])\n",
    "df.head()"
   ]
  },
  {
   "cell_type": "code",
   "execution_count": 34,
   "metadata": {
    "execution": {
     "iopub.execute_input": "2021-03-13T07:46:25.209283Z",
     "iopub.status.busy": "2021-03-13T07:46:25.208635Z",
     "iopub.status.idle": "2021-03-13T07:46:25.210349Z",
     "shell.execute_reply": "2021-03-13T07:46:25.210870Z"
    },
    "papermill": {
     "duration": 0.064335,
     "end_time": "2021-03-13T07:46:25.211030",
     "exception": false,
     "start_time": "2021-03-13T07:46:25.146695",
     "status": "completed"
    },
    "tags": []
   },
   "outputs": [],
   "source": [
    "df=df.drop('Name',axis=1)"
   ]
  },
  {
   "cell_type": "code",
   "execution_count": 35,
   "metadata": {
    "execution": {
     "iopub.execute_input": "2021-03-13T07:46:25.325225Z",
     "iopub.status.busy": "2021-03-13T07:46:25.324657Z",
     "iopub.status.idle": "2021-03-13T07:46:25.329281Z",
     "shell.execute_reply": "2021-03-13T07:46:25.329771Z"
    },
    "papermill": {
     "duration": 0.06315,
     "end_time": "2021-03-13T07:46:25.329930",
     "exception": false,
     "start_time": "2021-03-13T07:46:25.266780",
     "status": "completed"
    },
    "tags": []
   },
   "outputs": [],
   "source": [
    "df=df.drop('Ticket',axis=1)"
   ]
  },
  {
   "cell_type": "code",
   "execution_count": 36,
   "metadata": {
    "execution": {
     "iopub.execute_input": "2021-03-13T07:46:25.444935Z",
     "iopub.status.busy": "2021-03-13T07:46:25.444366Z",
     "iopub.status.idle": "2021-03-13T07:46:25.449783Z",
     "shell.execute_reply": "2021-03-13T07:46:25.449295Z"
    },
    "papermill": {
     "duration": 0.064262,
     "end_time": "2021-03-13T07:46:25.449916",
     "exception": false,
     "start_time": "2021-03-13T07:46:25.385654",
     "status": "completed"
    },
    "tags": []
   },
   "outputs": [],
   "source": [
    "df=df.drop('PassengerId',axis=1)"
   ]
  },
  {
   "cell_type": "code",
   "execution_count": 37,
   "metadata": {
    "execution": {
     "iopub.execute_input": "2021-03-13T07:46:25.565789Z",
     "iopub.status.busy": "2021-03-13T07:46:25.565172Z",
     "iopub.status.idle": "2021-03-13T07:46:25.572380Z",
     "shell.execute_reply": "2021-03-13T07:46:25.572847Z"
    },
    "papermill": {
     "duration": 0.066563,
     "end_time": "2021-03-13T07:46:25.573011",
     "exception": false,
     "start_time": "2021-03-13T07:46:25.506448",
     "status": "completed"
    },
    "tags": []
   },
   "outputs": [],
   "source": [
    "df['Family']=df['SibSp']+df['Parch']\n",
    "df=df.drop('SibSp',axis=1)\n",
    "df=df.drop('Parch',axis=1)"
   ]
  },
  {
   "cell_type": "code",
   "execution_count": 38,
   "metadata": {
    "execution": {
     "iopub.execute_input": "2021-03-13T07:46:25.687281Z",
     "iopub.status.busy": "2021-03-13T07:46:25.686709Z",
     "iopub.status.idle": "2021-03-13T07:46:25.699083Z",
     "shell.execute_reply": "2021-03-13T07:46:25.698467Z"
    },
    "papermill": {
     "duration": 0.070699,
     "end_time": "2021-03-13T07:46:25.699224",
     "exception": false,
     "start_time": "2021-03-13T07:46:25.628525",
     "status": "completed"
    },
    "tags": []
   },
   "outputs": [
    {
     "data": {
      "text/html": [
       "<div>\n",
       "<style scoped>\n",
       "    .dataframe tbody tr th:only-of-type {\n",
       "        vertical-align: middle;\n",
       "    }\n",
       "\n",
       "    .dataframe tbody tr th {\n",
       "        vertical-align: top;\n",
       "    }\n",
       "\n",
       "    .dataframe thead th {\n",
       "        text-align: right;\n",
       "    }\n",
       "</style>\n",
       "<table border=\"1\" class=\"dataframe\">\n",
       "  <thead>\n",
       "    <tr style=\"text-align: right;\">\n",
       "      <th></th>\n",
       "      <th>Survived</th>\n",
       "      <th>Pclass</th>\n",
       "      <th>Sex</th>\n",
       "      <th>Age</th>\n",
       "      <th>Fare</th>\n",
       "      <th>Embarked</th>\n",
       "      <th>Family</th>\n",
       "    </tr>\n",
       "  </thead>\n",
       "  <tbody>\n",
       "    <tr>\n",
       "      <th>0</th>\n",
       "      <td>0</td>\n",
       "      <td>3</td>\n",
       "      <td>1</td>\n",
       "      <td>22.0</td>\n",
       "      <td>7.2500</td>\n",
       "      <td>2</td>\n",
       "      <td>1.0</td>\n",
       "    </tr>\n",
       "    <tr>\n",
       "      <th>1</th>\n",
       "      <td>1</td>\n",
       "      <td>1</td>\n",
       "      <td>2</td>\n",
       "      <td>38.0</td>\n",
       "      <td>71.2833</td>\n",
       "      <td>0</td>\n",
       "      <td>1.0</td>\n",
       "    </tr>\n",
       "    <tr>\n",
       "      <th>2</th>\n",
       "      <td>1</td>\n",
       "      <td>3</td>\n",
       "      <td>2</td>\n",
       "      <td>26.0</td>\n",
       "      <td>7.9250</td>\n",
       "      <td>2</td>\n",
       "      <td>0.0</td>\n",
       "    </tr>\n",
       "    <tr>\n",
       "      <th>3</th>\n",
       "      <td>1</td>\n",
       "      <td>1</td>\n",
       "      <td>2</td>\n",
       "      <td>35.0</td>\n",
       "      <td>53.1000</td>\n",
       "      <td>2</td>\n",
       "      <td>1.0</td>\n",
       "    </tr>\n",
       "    <tr>\n",
       "      <th>4</th>\n",
       "      <td>0</td>\n",
       "      <td>3</td>\n",
       "      <td>1</td>\n",
       "      <td>35.0</td>\n",
       "      <td>8.0500</td>\n",
       "      <td>2</td>\n",
       "      <td>0.0</td>\n",
       "    </tr>\n",
       "  </tbody>\n",
       "</table>\n",
       "</div>"
      ],
      "text/plain": [
       "   Survived  Pclass  Sex   Age     Fare  Embarked  Family\n",
       "0         0       3    1  22.0   7.2500         2     1.0\n",
       "1         1       1    2  38.0  71.2833         0     1.0\n",
       "2         1       3    2  26.0   7.9250         2     0.0\n",
       "3         1       1    2  35.0  53.1000         2     1.0\n",
       "4         0       3    1  35.0   8.0500         2     0.0"
      ]
     },
     "execution_count": 38,
     "metadata": {},
     "output_type": "execute_result"
    }
   ],
   "source": [
    "df.head()"
   ]
  },
  {
   "cell_type": "code",
   "execution_count": 39,
   "metadata": {
    "execution": {
     "iopub.execute_input": "2021-03-13T07:46:25.819004Z",
     "iopub.status.busy": "2021-03-13T07:46:25.818440Z",
     "iopub.status.idle": "2021-03-13T07:46:25.835611Z",
     "shell.execute_reply": "2021-03-13T07:46:25.836011Z"
    },
    "papermill": {
     "duration": 0.079736,
     "end_time": "2021-03-13T07:46:25.836206",
     "exception": false,
     "start_time": "2021-03-13T07:46:25.756470",
     "status": "completed"
    },
    "tags": []
   },
   "outputs": [
    {
     "data": {
      "text/html": [
       "<div>\n",
       "<style scoped>\n",
       "    .dataframe tbody tr th:only-of-type {\n",
       "        vertical-align: middle;\n",
       "    }\n",
       "\n",
       "    .dataframe tbody tr th {\n",
       "        vertical-align: top;\n",
       "    }\n",
       "\n",
       "    .dataframe thead th {\n",
       "        text-align: right;\n",
       "    }\n",
       "</style>\n",
       "<table border=\"1\" class=\"dataframe\">\n",
       "  <thead>\n",
       "    <tr style=\"text-align: right;\">\n",
       "      <th></th>\n",
       "      <th>Survived</th>\n",
       "      <th>Pclass</th>\n",
       "      <th>Sex</th>\n",
       "      <th>Age</th>\n",
       "      <th>Fare</th>\n",
       "      <th>Embarked</th>\n",
       "      <th>Family</th>\n",
       "    </tr>\n",
       "  </thead>\n",
       "  <tbody>\n",
       "    <tr>\n",
       "      <th>0</th>\n",
       "      <td>0.0</td>\n",
       "      <td>1.0</td>\n",
       "      <td>0.0</td>\n",
       "      <td>0.271174</td>\n",
       "      <td>0.027567</td>\n",
       "      <td>1.0</td>\n",
       "      <td>0.142857</td>\n",
       "    </tr>\n",
       "    <tr>\n",
       "      <th>1</th>\n",
       "      <td>1.0</td>\n",
       "      <td>0.0</td>\n",
       "      <td>1.0</td>\n",
       "      <td>0.472229</td>\n",
       "      <td>0.271039</td>\n",
       "      <td>0.0</td>\n",
       "      <td>0.142857</td>\n",
       "    </tr>\n",
       "    <tr>\n",
       "      <th>2</th>\n",
       "      <td>1.0</td>\n",
       "      <td>1.0</td>\n",
       "      <td>1.0</td>\n",
       "      <td>0.321438</td>\n",
       "      <td>0.030133</td>\n",
       "      <td>1.0</td>\n",
       "      <td>0.000000</td>\n",
       "    </tr>\n",
       "    <tr>\n",
       "      <th>3</th>\n",
       "      <td>1.0</td>\n",
       "      <td>0.0</td>\n",
       "      <td>1.0</td>\n",
       "      <td>0.434531</td>\n",
       "      <td>0.201901</td>\n",
       "      <td>1.0</td>\n",
       "      <td>0.142857</td>\n",
       "    </tr>\n",
       "    <tr>\n",
       "      <th>4</th>\n",
       "      <td>0.0</td>\n",
       "      <td>1.0</td>\n",
       "      <td>0.0</td>\n",
       "      <td>0.434531</td>\n",
       "      <td>0.030608</td>\n",
       "      <td>1.0</td>\n",
       "      <td>0.000000</td>\n",
       "    </tr>\n",
       "    <tr>\n",
       "      <th>...</th>\n",
       "      <td>...</td>\n",
       "      <td>...</td>\n",
       "      <td>...</td>\n",
       "      <td>...</td>\n",
       "      <td>...</td>\n",
       "      <td>...</td>\n",
       "      <td>...</td>\n",
       "    </tr>\n",
       "    <tr>\n",
       "      <th>874</th>\n",
       "      <td>0.0</td>\n",
       "      <td>0.5</td>\n",
       "      <td>0.0</td>\n",
       "      <td>0.334004</td>\n",
       "      <td>0.049430</td>\n",
       "      <td>1.0</td>\n",
       "      <td>0.000000</td>\n",
       "    </tr>\n",
       "    <tr>\n",
       "      <th>875</th>\n",
       "      <td>1.0</td>\n",
       "      <td>0.0</td>\n",
       "      <td>1.0</td>\n",
       "      <td>0.233476</td>\n",
       "      <td>0.114068</td>\n",
       "      <td>1.0</td>\n",
       "      <td>0.000000</td>\n",
       "    </tr>\n",
       "    <tr>\n",
       "      <th>876</th>\n",
       "      <td>0.0</td>\n",
       "      <td>1.0</td>\n",
       "      <td>1.0</td>\n",
       "      <td>0.367921</td>\n",
       "      <td>0.089163</td>\n",
       "      <td>1.0</td>\n",
       "      <td>0.428571</td>\n",
       "    </tr>\n",
       "    <tr>\n",
       "      <th>877</th>\n",
       "      <td>1.0</td>\n",
       "      <td>0.0</td>\n",
       "      <td>0.0</td>\n",
       "      <td>0.321438</td>\n",
       "      <td>0.114068</td>\n",
       "      <td>0.0</td>\n",
       "      <td>0.000000</td>\n",
       "    </tr>\n",
       "    <tr>\n",
       "      <th>878</th>\n",
       "      <td>0.0</td>\n",
       "      <td>1.0</td>\n",
       "      <td>0.0</td>\n",
       "      <td>0.396833</td>\n",
       "      <td>0.029468</td>\n",
       "      <td>0.5</td>\n",
       "      <td>0.000000</td>\n",
       "    </tr>\n",
       "  </tbody>\n",
       "</table>\n",
       "<p>879 rows × 7 columns</p>\n",
       "</div>"
      ],
      "text/plain": [
       "     Survived  Pclass  Sex       Age      Fare  Embarked    Family\n",
       "0         0.0     1.0  0.0  0.271174  0.027567       1.0  0.142857\n",
       "1         1.0     0.0  1.0  0.472229  0.271039       0.0  0.142857\n",
       "2         1.0     1.0  1.0  0.321438  0.030133       1.0  0.000000\n",
       "3         1.0     0.0  1.0  0.434531  0.201901       1.0  0.142857\n",
       "4         0.0     1.0  0.0  0.434531  0.030608       1.0  0.000000\n",
       "..        ...     ...  ...       ...       ...       ...       ...\n",
       "874       0.0     0.5  0.0  0.334004  0.049430       1.0  0.000000\n",
       "875       1.0     0.0  1.0  0.233476  0.114068       1.0  0.000000\n",
       "876       0.0     1.0  1.0  0.367921  0.089163       1.0  0.428571\n",
       "877       1.0     0.0  0.0  0.321438  0.114068       0.0  0.000000\n",
       "878       0.0     1.0  0.0  0.396833  0.029468       0.5  0.000000\n",
       "\n",
       "[879 rows x 7 columns]"
      ]
     },
     "execution_count": 39,
     "metadata": {},
     "output_type": "execute_result"
    }
   ],
   "source": [
    "from sklearn import preprocessing\n",
    "from sklearn.preprocessing import MinMaxScaler\n",
    "scaler = MinMaxScaler()\n",
    "df = pd.DataFrame(scaler.fit_transform(df), columns=df.columns)\n",
    "\n",
    "df"
   ]
  },
  {
   "cell_type": "code",
   "execution_count": 40,
   "metadata": {
    "execution": {
     "iopub.execute_input": "2021-03-13T07:46:25.954399Z",
     "iopub.status.busy": "2021-03-13T07:46:25.953796Z",
     "iopub.status.idle": "2021-03-13T07:46:25.957024Z",
     "shell.execute_reply": "2021-03-13T07:46:25.957477Z"
    },
    "papermill": {
     "duration": 0.064602,
     "end_time": "2021-03-13T07:46:25.957638",
     "exception": false,
     "start_time": "2021-03-13T07:46:25.893036",
     "status": "completed"
    },
    "tags": []
   },
   "outputs": [
    {
     "data": {
      "text/plain": [
       "(879, 7)"
      ]
     },
     "execution_count": 40,
     "metadata": {},
     "output_type": "execute_result"
    }
   ],
   "source": [
    "df.shape"
   ]
  },
  {
   "cell_type": "code",
   "execution_count": null,
   "metadata": {
    "papermill": {
     "duration": 0.056896,
     "end_time": "2021-03-13T07:46:26.072009",
     "exception": false,
     "start_time": "2021-03-13T07:46:26.015113",
     "status": "completed"
    },
    "tags": []
   },
   "outputs": [],
   "source": []
  },
  {
   "cell_type": "code",
   "execution_count": 41,
   "metadata": {
    "execution": {
     "iopub.execute_input": "2021-03-13T07:46:26.189978Z",
     "iopub.status.busy": "2021-03-13T07:46:26.189414Z",
     "iopub.status.idle": "2021-03-13T07:46:26.197198Z",
     "shell.execute_reply": "2021-03-13T07:46:26.197669Z"
    },
    "papermill": {
     "duration": 0.069,
     "end_time": "2021-03-13T07:46:26.197831",
     "exception": false,
     "start_time": "2021-03-13T07:46:26.128831",
     "status": "completed"
    },
    "tags": []
   },
   "outputs": [
    {
     "data": {
      "text/plain": [
       "Survived    1.000000\n",
       "Pclass     -0.327629\n",
       "Sex         0.548874\n",
       "Age        -0.076951\n",
       "Fare        0.266726\n",
       "Embarked   -0.159825\n",
       "Family      0.063718\n",
       "Name: Survived, dtype: float64"
      ]
     },
     "execution_count": 41,
     "metadata": {},
     "output_type": "execute_result"
    }
   ],
   "source": [
    "df.corr()['Survived']"
   ]
  },
  {
   "cell_type": "code",
   "execution_count": 42,
   "metadata": {
    "execution": {
     "iopub.execute_input": "2021-03-13T07:46:26.317279Z",
     "iopub.status.busy": "2021-03-13T07:46:26.316665Z",
     "iopub.status.idle": "2021-03-13T07:46:26.381222Z",
     "shell.execute_reply": "2021-03-13T07:46:26.380643Z"
    },
    "papermill": {
     "duration": 0.125712,
     "end_time": "2021-03-13T07:46:26.381366",
     "exception": false,
     "start_time": "2021-03-13T07:46:26.255654",
     "status": "completed"
    },
    "tags": []
   },
   "outputs": [],
   "source": [
    "from sklearn.model_selection import train_test_split\n"
   ]
  },
  {
   "cell_type": "code",
   "execution_count": 43,
   "metadata": {
    "execution": {
     "iopub.execute_input": "2021-03-13T07:46:26.511816Z",
     "iopub.status.busy": "2021-03-13T07:46:26.511231Z",
     "iopub.status.idle": "2021-03-13T07:46:26.514325Z",
     "shell.execute_reply": "2021-03-13T07:46:26.514751Z"
    },
    "papermill": {
     "duration": 0.076183,
     "end_time": "2021-03-13T07:46:26.514920",
     "exception": false,
     "start_time": "2021-03-13T07:46:26.438737",
     "status": "completed"
    },
    "tags": []
   },
   "outputs": [
    {
     "data": {
      "text/html": [
       "<div>\n",
       "<style scoped>\n",
       "    .dataframe tbody tr th:only-of-type {\n",
       "        vertical-align: middle;\n",
       "    }\n",
       "\n",
       "    .dataframe tbody tr th {\n",
       "        vertical-align: top;\n",
       "    }\n",
       "\n",
       "    .dataframe thead th {\n",
       "        text-align: right;\n",
       "    }\n",
       "</style>\n",
       "<table border=\"1\" class=\"dataframe\">\n",
       "  <thead>\n",
       "    <tr style=\"text-align: right;\">\n",
       "      <th></th>\n",
       "      <th>Pclass</th>\n",
       "      <th>Sex</th>\n",
       "      <th>Age</th>\n",
       "      <th>Fare</th>\n",
       "      <th>Embarked</th>\n",
       "      <th>Family</th>\n",
       "    </tr>\n",
       "  </thead>\n",
       "  <tbody>\n",
       "    <tr>\n",
       "      <th>0</th>\n",
       "      <td>1.0</td>\n",
       "      <td>0.0</td>\n",
       "      <td>0.271174</td>\n",
       "      <td>0.027567</td>\n",
       "      <td>1.0</td>\n",
       "      <td>0.142857</td>\n",
       "    </tr>\n",
       "    <tr>\n",
       "      <th>1</th>\n",
       "      <td>0.0</td>\n",
       "      <td>1.0</td>\n",
       "      <td>0.472229</td>\n",
       "      <td>0.271039</td>\n",
       "      <td>0.0</td>\n",
       "      <td>0.142857</td>\n",
       "    </tr>\n",
       "    <tr>\n",
       "      <th>2</th>\n",
       "      <td>1.0</td>\n",
       "      <td>1.0</td>\n",
       "      <td>0.321438</td>\n",
       "      <td>0.030133</td>\n",
       "      <td>1.0</td>\n",
       "      <td>0.000000</td>\n",
       "    </tr>\n",
       "    <tr>\n",
       "      <th>3</th>\n",
       "      <td>0.0</td>\n",
       "      <td>1.0</td>\n",
       "      <td>0.434531</td>\n",
       "      <td>0.201901</td>\n",
       "      <td>1.0</td>\n",
       "      <td>0.142857</td>\n",
       "    </tr>\n",
       "    <tr>\n",
       "      <th>4</th>\n",
       "      <td>1.0</td>\n",
       "      <td>0.0</td>\n",
       "      <td>0.434531</td>\n",
       "      <td>0.030608</td>\n",
       "      <td>1.0</td>\n",
       "      <td>0.000000</td>\n",
       "    </tr>\n",
       "    <tr>\n",
       "      <th>...</th>\n",
       "      <td>...</td>\n",
       "      <td>...</td>\n",
       "      <td>...</td>\n",
       "      <td>...</td>\n",
       "      <td>...</td>\n",
       "      <td>...</td>\n",
       "    </tr>\n",
       "    <tr>\n",
       "      <th>874</th>\n",
       "      <td>0.5</td>\n",
       "      <td>0.0</td>\n",
       "      <td>0.334004</td>\n",
       "      <td>0.049430</td>\n",
       "      <td>1.0</td>\n",
       "      <td>0.000000</td>\n",
       "    </tr>\n",
       "    <tr>\n",
       "      <th>875</th>\n",
       "      <td>0.0</td>\n",
       "      <td>1.0</td>\n",
       "      <td>0.233476</td>\n",
       "      <td>0.114068</td>\n",
       "      <td>1.0</td>\n",
       "      <td>0.000000</td>\n",
       "    </tr>\n",
       "    <tr>\n",
       "      <th>876</th>\n",
       "      <td>1.0</td>\n",
       "      <td>1.0</td>\n",
       "      <td>0.367921</td>\n",
       "      <td>0.089163</td>\n",
       "      <td>1.0</td>\n",
       "      <td>0.428571</td>\n",
       "    </tr>\n",
       "    <tr>\n",
       "      <th>877</th>\n",
       "      <td>0.0</td>\n",
       "      <td>0.0</td>\n",
       "      <td>0.321438</td>\n",
       "      <td>0.114068</td>\n",
       "      <td>0.0</td>\n",
       "      <td>0.000000</td>\n",
       "    </tr>\n",
       "    <tr>\n",
       "      <th>878</th>\n",
       "      <td>1.0</td>\n",
       "      <td>0.0</td>\n",
       "      <td>0.396833</td>\n",
       "      <td>0.029468</td>\n",
       "      <td>0.5</td>\n",
       "      <td>0.000000</td>\n",
       "    </tr>\n",
       "  </tbody>\n",
       "</table>\n",
       "<p>879 rows × 6 columns</p>\n",
       "</div>"
      ],
      "text/plain": [
       "     Pclass  Sex       Age      Fare  Embarked    Family\n",
       "0       1.0  0.0  0.271174  0.027567       1.0  0.142857\n",
       "1       0.0  1.0  0.472229  0.271039       0.0  0.142857\n",
       "2       1.0  1.0  0.321438  0.030133       1.0  0.000000\n",
       "3       0.0  1.0  0.434531  0.201901       1.0  0.142857\n",
       "4       1.0  0.0  0.434531  0.030608       1.0  0.000000\n",
       "..      ...  ...       ...       ...       ...       ...\n",
       "874     0.5  0.0  0.334004  0.049430       1.0  0.000000\n",
       "875     0.0  1.0  0.233476  0.114068       1.0  0.000000\n",
       "876     1.0  1.0  0.367921  0.089163       1.0  0.428571\n",
       "877     0.0  0.0  0.321438  0.114068       0.0  0.000000\n",
       "878     1.0  0.0  0.396833  0.029468       0.5  0.000000\n",
       "\n",
       "[879 rows x 6 columns]"
      ]
     },
     "execution_count": 43,
     "metadata": {},
     "output_type": "execute_result"
    }
   ],
   "source": [
    "x=df.drop('Survived',axis=1)\n",
    "x"
   ]
  },
  {
   "cell_type": "code",
   "execution_count": 44,
   "metadata": {
    "execution": {
     "iopub.execute_input": "2021-03-13T07:46:26.634077Z",
     "iopub.status.busy": "2021-03-13T07:46:26.633537Z",
     "iopub.status.idle": "2021-03-13T07:46:26.639714Z",
     "shell.execute_reply": "2021-03-13T07:46:26.640158Z"
    },
    "papermill": {
     "duration": 0.067413,
     "end_time": "2021-03-13T07:46:26.640315",
     "exception": false,
     "start_time": "2021-03-13T07:46:26.572902",
     "status": "completed"
    },
    "tags": []
   },
   "outputs": [
    {
     "data": {
      "text/plain": [
       "0      0.0\n",
       "1      1.0\n",
       "2      1.0\n",
       "3      1.0\n",
       "4      0.0\n",
       "      ... \n",
       "874    0.0\n",
       "875    1.0\n",
       "876    0.0\n",
       "877    1.0\n",
       "878    0.0\n",
       "Name: Survived, Length: 879, dtype: float64"
      ]
     },
     "execution_count": 44,
     "metadata": {},
     "output_type": "execute_result"
    }
   ],
   "source": [
    "y=df['Survived']\n",
    "y"
   ]
  },
  {
   "cell_type": "code",
   "execution_count": 45,
   "metadata": {
    "execution": {
     "iopub.execute_input": "2021-03-13T07:46:26.761125Z",
     "iopub.status.busy": "2021-03-13T07:46:26.760478Z",
     "iopub.status.idle": "2021-03-13T07:46:26.766397Z",
     "shell.execute_reply": "2021-03-13T07:46:26.766791Z"
    },
    "papermill": {
     "duration": 0.068545,
     "end_time": "2021-03-13T07:46:26.766957",
     "exception": false,
     "start_time": "2021-03-13T07:46:26.698412",
     "status": "completed"
    },
    "tags": []
   },
   "outputs": [],
   "source": [
    "x_train,x_test,y_train,y_test=train_test_split(x,y,test_size=0.2,random_state=42)\n"
   ]
  },
  {
   "cell_type": "code",
   "execution_count": 46,
   "metadata": {
    "execution": {
     "iopub.execute_input": "2021-03-13T07:46:26.890574Z",
     "iopub.status.busy": "2021-03-13T07:46:26.889779Z",
     "iopub.status.idle": "2021-03-13T07:46:26.892482Z",
     "shell.execute_reply": "2021-03-13T07:46:26.891990Z"
    },
    "papermill": {
     "duration": 0.066836,
     "end_time": "2021-03-13T07:46:26.892622",
     "exception": false,
     "start_time": "2021-03-13T07:46:26.825786",
     "status": "completed"
    },
    "tags": []
   },
   "outputs": [],
   "source": [
    "x_train = x_train.values\n",
    "x_test = x_test.values\n",
    "y_train = y_train.values\n",
    "y_test = y_test.values\n"
   ]
  },
  {
   "cell_type": "code",
   "execution_count": 47,
   "metadata": {
    "execution": {
     "iopub.execute_input": "2021-03-13T07:46:27.017331Z",
     "iopub.status.busy": "2021-03-13T07:46:27.016575Z",
     "iopub.status.idle": "2021-03-13T07:46:27.241872Z",
     "shell.execute_reply": "2021-03-13T07:46:27.241364Z"
    },
    "papermill": {
     "duration": 0.290274,
     "end_time": "2021-03-13T07:46:27.242008",
     "exception": false,
     "start_time": "2021-03-13T07:46:26.951734",
     "status": "completed"
    },
    "tags": []
   },
   "outputs": [],
   "source": [
    "from sklearn.linear_model import LogisticRegression\n",
    "from sklearn.svm import SVC\n",
    "from sklearn.neighbors import KNeighborsClassifier\n",
    "from sklearn.tree import DecisionTreeClassifier\n",
    "from sklearn.ensemble import RandomForestClassifier\n",
    "\n",
    "classifiers = {\n",
    "    \"LogisiticRegression\": LogisticRegression(),\n",
    "    \"KNearest\": KNeighborsClassifier(),\n",
    "    \"Support Vector Classifier\": SVC(),\n",
    "    \"DecisionTreeClassifier\": DecisionTreeClassifier(),\n",
    "    \"RandomForestClassifier\":RandomForestClassifier()\n",
    "}"
   ]
  },
  {
   "cell_type": "code",
   "execution_count": 48,
   "metadata": {
    "execution": {
     "iopub.execute_input": "2021-03-13T07:46:27.361454Z",
     "iopub.status.busy": "2021-03-13T07:46:27.360836Z",
     "iopub.status.idle": "2021-03-13T07:46:28.547128Z",
     "shell.execute_reply": "2021-03-13T07:46:28.546368Z"
    },
    "papermill": {
     "duration": 1.246987,
     "end_time": "2021-03-13T07:46:28.547317",
     "exception": false,
     "start_time": "2021-03-13T07:46:27.300330",
     "status": "completed"
    },
    "tags": []
   },
   "outputs": [
    {
     "name": "stdout",
     "output_type": "stream",
     "text": [
      "Classifiers:  LogisticRegression Has a training score of 80.0 % accuracy score\n",
      "Classifiers:  KNeighborsClassifier Has a training score of 80.0 % accuracy score\n",
      "Classifiers:  SVC Has a training score of 80.0 % accuracy score\n",
      "Classifiers:  DecisionTreeClassifier Has a training score of 76.0 % accuracy score\n",
      "Classifiers:  RandomForestClassifier Has a training score of 79.0 % accuracy score\n"
     ]
    }
   ],
   "source": [
    "from sklearn.model_selection import cross_val_score\n",
    "\n",
    "\n",
    "for key, classifier in classifiers.items():\n",
    "    classifier.fit(x_train, y_train)\n",
    "    training_score = cross_val_score(classifier, x_train, y_train, cv=5)\n",
    "    print(\"Classifiers: \", classifier.__class__.__name__, \"Has a training score of\", round(training_score.mean(), 2) * 100, \"% accuracy score\")"
   ]
  },
  {
   "cell_type": "code",
   "execution_count": 49,
   "metadata": {
    "execution": {
     "iopub.execute_input": "2021-03-13T07:46:28.680469Z",
     "iopub.status.busy": "2021-03-13T07:46:28.679642Z",
     "iopub.status.idle": "2021-03-13T07:46:28.684062Z",
     "shell.execute_reply": "2021-03-13T07:46:28.683499Z"
    },
    "papermill": {
     "duration": 0.076687,
     "end_time": "2021-03-13T07:46:28.684208",
     "exception": false,
     "start_time": "2021-03-13T07:46:28.607521",
     "status": "completed"
    },
    "tags": []
   },
   "outputs": [
    {
     "data": {
      "text/html": [
       "<div>\n",
       "<style scoped>\n",
       "    .dataframe tbody tr th:only-of-type {\n",
       "        vertical-align: middle;\n",
       "    }\n",
       "\n",
       "    .dataframe tbody tr th {\n",
       "        vertical-align: top;\n",
       "    }\n",
       "\n",
       "    .dataframe thead th {\n",
       "        text-align: right;\n",
       "    }\n",
       "</style>\n",
       "<table border=\"1\" class=\"dataframe\">\n",
       "  <thead>\n",
       "    <tr style=\"text-align: right;\">\n",
       "      <th></th>\n",
       "      <th>Survived</th>\n",
       "      <th>Pclass</th>\n",
       "      <th>Sex</th>\n",
       "      <th>Age</th>\n",
       "      <th>Fare</th>\n",
       "      <th>Embarked</th>\n",
       "      <th>Family</th>\n",
       "    </tr>\n",
       "  </thead>\n",
       "  <tbody>\n",
       "    <tr>\n",
       "      <th>874</th>\n",
       "      <td>0.0</td>\n",
       "      <td>0.5</td>\n",
       "      <td>0.0</td>\n",
       "      <td>0.334004</td>\n",
       "      <td>0.049430</td>\n",
       "      <td>1.0</td>\n",
       "      <td>0.000000</td>\n",
       "    </tr>\n",
       "    <tr>\n",
       "      <th>875</th>\n",
       "      <td>1.0</td>\n",
       "      <td>0.0</td>\n",
       "      <td>1.0</td>\n",
       "      <td>0.233476</td>\n",
       "      <td>0.114068</td>\n",
       "      <td>1.0</td>\n",
       "      <td>0.000000</td>\n",
       "    </tr>\n",
       "    <tr>\n",
       "      <th>876</th>\n",
       "      <td>0.0</td>\n",
       "      <td>1.0</td>\n",
       "      <td>1.0</td>\n",
       "      <td>0.367921</td>\n",
       "      <td>0.089163</td>\n",
       "      <td>1.0</td>\n",
       "      <td>0.428571</td>\n",
       "    </tr>\n",
       "    <tr>\n",
       "      <th>877</th>\n",
       "      <td>1.0</td>\n",
       "      <td>0.0</td>\n",
       "      <td>0.0</td>\n",
       "      <td>0.321438</td>\n",
       "      <td>0.114068</td>\n",
       "      <td>0.0</td>\n",
       "      <td>0.000000</td>\n",
       "    </tr>\n",
       "    <tr>\n",
       "      <th>878</th>\n",
       "      <td>0.0</td>\n",
       "      <td>1.0</td>\n",
       "      <td>0.0</td>\n",
       "      <td>0.396833</td>\n",
       "      <td>0.029468</td>\n",
       "      <td>0.5</td>\n",
       "      <td>0.000000</td>\n",
       "    </tr>\n",
       "  </tbody>\n",
       "</table>\n",
       "</div>"
      ],
      "text/plain": [
       "     Survived  Pclass  Sex       Age      Fare  Embarked    Family\n",
       "874       0.0     0.5  0.0  0.334004  0.049430       1.0  0.000000\n",
       "875       1.0     0.0  1.0  0.233476  0.114068       1.0  0.000000\n",
       "876       0.0     1.0  1.0  0.367921  0.089163       1.0  0.428571\n",
       "877       1.0     0.0  0.0  0.321438  0.114068       0.0  0.000000\n",
       "878       0.0     1.0  0.0  0.396833  0.029468       0.5  0.000000"
      ]
     },
     "execution_count": 49,
     "metadata": {},
     "output_type": "execute_result"
    }
   ],
   "source": [
    "df.tail()"
   ]
  },
  {
   "cell_type": "code",
   "execution_count": 50,
   "metadata": {
    "execution": {
     "iopub.execute_input": "2021-03-13T07:46:28.808863Z",
     "iopub.status.busy": "2021-03-13T07:46:28.808310Z",
     "iopub.status.idle": "2021-03-13T07:46:28.811567Z",
     "shell.execute_reply": "2021-03-13T07:46:28.810999Z"
    },
    "papermill": {
     "duration": 0.066771,
     "end_time": "2021-03-13T07:46:28.811763",
     "exception": false,
     "start_time": "2021-03-13T07:46:28.744992",
     "status": "completed"
    },
    "tags": []
   },
   "outputs": [],
   "source": [
    "X_train = x_train\n",
    "X_test = x_test\n"
   ]
  },
  {
   "cell_type": "code",
   "execution_count": 51,
   "metadata": {
    "execution": {
     "iopub.execute_input": "2021-03-13T07:46:28.939454Z",
     "iopub.status.busy": "2021-03-13T07:46:28.938831Z",
     "iopub.status.idle": "2021-03-13T07:46:30.608822Z",
     "shell.execute_reply": "2021-03-13T07:46:30.608187Z"
    },
    "papermill": {
     "duration": 1.73761,
     "end_time": "2021-03-13T07:46:30.608960",
     "exception": false,
     "start_time": "2021-03-13T07:46:28.871350",
     "status": "completed"
    },
    "tags": []
   },
   "outputs": [],
   "source": [
    "from sklearn.model_selection import GridSearchCV\n",
    "\n",
    "\n",
    "# Logistic Regression \n",
    "log_reg_params = {\"penalty\": ['l1', 'l2'], 'C': [0.001, 0.01, 0.1, 1, 10, 100, 1000]}\n",
    "\n",
    "\n",
    "\n",
    "grid_log_reg = GridSearchCV(LogisticRegression(), log_reg_params)\n",
    "grid_log_reg.fit(X_train, y_train)\n",
    "#We automatically get the logistic regression with the best parameters.\n",
    "log_reg = grid_log_reg.best_estimator_\n",
    "\n",
    "knears_params = {\"n_neighbors\": list(range(2,5,1)), 'algorithm': ['auto', 'ball_tree', 'kd_tree', 'brute']}\n",
    "\n",
    "grid_knears = GridSearchCV(KNeighborsClassifier(), knears_params)\n",
    "grid_knears.fit(X_train, y_train)\n",
    "# KNears best estimator\n",
    "knears_neighbors = grid_knears.best_estimator_\n",
    "\n",
    "# # Support Vector Classifier\n",
    "svc_params = {'C': [0.5, 0.7, 0.9, 1], 'kernel': ['rbf', 'poly', 'sigmoid', 'linear']}\n",
    "grid_svc = GridSearchCV(SVC(), svc_params)\n",
    "grid_svc.fit(X_train, y_train)\n",
    "\n",
    "# # SVC best estimator\n",
    "svc = grid_svc.best_estimator_\n",
    "\n",
    "# # DecisionTree Classifier\n",
    "tree_params = {\"criterion\": [\"gini\", \"entropy\"], \"max_depth\": list(range(2,4,1)), \n",
    "              \"min_samples_leaf\": list(range(5,7,1))}\n",
    "grid_tree = GridSearchCV(DecisionTreeClassifier(), tree_params)\n",
    "grid_tree.fit(X_train, y_train)\n",
    "\n",
    "# # tree best estimator\n",
    "tree_clf = grid_tree.best_estimator_"
   ]
  },
  {
   "cell_type": "code",
   "execution_count": 52,
   "metadata": {
    "execution": {
     "iopub.execute_input": "2021-03-13T07:46:30.733902Z",
     "iopub.status.busy": "2021-03-13T07:46:30.733336Z",
     "iopub.status.idle": "2021-03-13T07:46:30.735959Z",
     "shell.execute_reply": "2021-03-13T07:46:30.736432Z"
    },
    "papermill": {
     "duration": 0.067131,
     "end_time": "2021-03-13T07:46:30.736601",
     "exception": false,
     "start_time": "2021-03-13T07:46:30.669470",
     "status": "completed"
    },
    "tags": []
   },
   "outputs": [],
   "source": [
    "# rfc=RandomForestClassifier(random_state=42)\n",
    "\n",
    "# param_grid = { \n",
    "#     'n_estimators': [200, 500],\n",
    "#     'max_features': ['auto', 'sqrt', 'log2'],\n",
    "#     'max_depth' : [4,5,6,7,8],\n",
    "#     'criterion' :['gini', 'entropy']\n",
    "# }\n",
    "# CV_rfc = GridSearchCV(estimator=rfc, param_grid=param_grid, cv= 5)\n",
    "# CV_rfc.fit(X_train, y_train)\n",
    "# CV_rfc.best_params_"
   ]
  },
  {
   "cell_type": "code",
   "execution_count": 53,
   "metadata": {
    "execution": {
     "iopub.execute_input": "2021-03-13T07:46:30.862420Z",
     "iopub.status.busy": "2021-03-13T07:46:30.861787Z",
     "iopub.status.idle": "2021-03-13T07:46:31.638593Z",
     "shell.execute_reply": "2021-03-13T07:46:31.638119Z"
    },
    "papermill": {
     "duration": 0.841439,
     "end_time": "2021-03-13T07:46:31.638724",
     "exception": false,
     "start_time": "2021-03-13T07:46:30.797285",
     "status": "completed"
    },
    "tags": []
   },
   "outputs": [
    {
     "data": {
      "text/plain": [
       "RandomForestClassifier(max_depth=8, n_estimators=500, random_state=42)"
      ]
     },
     "execution_count": 53,
     "metadata": {},
     "output_type": "execute_result"
    }
   ],
   "source": [
    "random_tree_clf = RandomForestClassifier(random_state=42,max_features='auto',n_estimators=500,max_depth=8,criterion='gini')\n",
    "random_tree_clf.fit(X_train,y_train)"
   ]
  },
  {
   "cell_type": "code",
   "execution_count": 54,
   "metadata": {
    "execution": {
     "iopub.execute_input": "2021-03-13T07:46:31.765491Z",
     "iopub.status.busy": "2021-03-13T07:46:31.764563Z",
     "iopub.status.idle": "2021-03-13T07:46:31.840469Z",
     "shell.execute_reply": "2021-03-13T07:46:31.839851Z"
    },
    "papermill": {
     "duration": 0.141847,
     "end_time": "2021-03-13T07:46:31.840608",
     "exception": false,
     "start_time": "2021-03-13T07:46:31.698761",
     "status": "completed"
    },
    "tags": []
   },
   "outputs": [
    {
     "name": "stdout",
     "output_type": "stream",
     "text": [
      "Logistic Regression Cross Validation Score:  80.37%\n",
      "Knears Neighbors Cross Validation Score 79.8%\n"
     ]
    }
   ],
   "source": [
    "log_reg_score = cross_val_score(log_reg, X_train, y_train, cv=5)\n",
    "print('Logistic Regression Cross Validation Score: ', round(log_reg_score.mean() * 100, 2).astype(str) + '%')\n",
    "\n",
    "\n",
    "knears_score = cross_val_score(knears_neighbors, X_train, y_train, cv=5)\n",
    "print('Knears Neighbors Cross Validation Score', round(knears_score.mean() * 100, 2).astype(str) + '%')\n",
    "\n"
   ]
  },
  {
   "cell_type": "code",
   "execution_count": 55,
   "metadata": {
    "execution": {
     "iopub.execute_input": "2021-03-13T07:46:31.971316Z",
     "iopub.status.busy": "2021-03-13T07:46:31.970350Z",
     "iopub.status.idle": "2021-03-13T07:46:32.050829Z",
     "shell.execute_reply": "2021-03-13T07:46:32.050387Z"
    },
    "papermill": {
     "duration": 0.148652,
     "end_time": "2021-03-13T07:46:32.050963",
     "exception": false,
     "start_time": "2021-03-13T07:46:31.902311",
     "status": "completed"
    },
    "tags": []
   },
   "outputs": [
    {
     "name": "stdout",
     "output_type": "stream",
     "text": [
      "Support Vector Classifier Cross Validation Score 80.94%\n",
      "DecisionTree Classifier Cross Validation Score 81.5%\n"
     ]
    }
   ],
   "source": [
    "svc_score = cross_val_score(svc, X_train, y_train, cv=5)\n",
    "print('Support Vector Classifier Cross Validation Score', round(svc_score.mean() * 100, 2).astype(str) + '%')\n",
    "\n",
    "tree_score = cross_val_score(tree_clf, X_train, y_train, cv=5)\n",
    "print('DecisionTree Classifier Cross Validation Score', round(tree_score.mean() * 100, 2).astype(str) + '%')"
   ]
  },
  {
   "cell_type": "code",
   "execution_count": 56,
   "metadata": {
    "execution": {
     "iopub.execute_input": "2021-03-13T07:46:32.180334Z",
     "iopub.status.busy": "2021-03-13T07:46:32.179360Z",
     "iopub.status.idle": "2021-03-13T07:46:36.102085Z",
     "shell.execute_reply": "2021-03-13T07:46:36.101615Z"
    },
    "papermill": {
     "duration": 3.989717,
     "end_time": "2021-03-13T07:46:36.102233",
     "exception": false,
     "start_time": "2021-03-13T07:46:32.112516",
     "status": "completed"
    },
    "tags": []
   },
   "outputs": [
    {
     "name": "stdout",
     "output_type": "stream",
     "text": [
      "DecisionTree Classifier Cross Validation Score 82.79%\n"
     ]
    }
   ],
   "source": [
    "random_tree_score = cross_val_score(random_tree_clf, X_train, y_train, cv=5)\n",
    "print('DecisionTree Classifier Cross Validation Score', round(random_tree_score.mean() * 100, 2).astype(str) + '%')"
   ]
  },
  {
   "cell_type": "code",
   "execution_count": 57,
   "metadata": {
    "execution": {
     "iopub.execute_input": "2021-03-13T07:46:36.233957Z",
     "iopub.status.busy": "2021-03-13T07:46:36.233017Z",
     "iopub.status.idle": "2021-03-13T07:46:36.375070Z",
     "shell.execute_reply": "2021-03-13T07:46:36.374451Z"
    },
    "papermill": {
     "duration": 0.210075,
     "end_time": "2021-03-13T07:46:36.375205",
     "exception": false,
     "start_time": "2021-03-13T07:46:36.165130",
     "status": "completed"
    },
    "tags": []
   },
   "outputs": [],
   "source": [
    "from sklearn.metrics import roc_curve\n",
    "from sklearn.model_selection import cross_val_predict\n",
    "# Create a DataFrame with all the scores and the classifiers names.\n",
    "\n",
    "log_reg_pred = cross_val_predict(log_reg, X_train, y_train, cv=5,\n",
    "                             method=\"decision_function\")\n",
    "\n",
    "knears_pred = cross_val_predict(knears_neighbors, X_train, y_train, cv=5)\n",
    "\n",
    "svc_pred = cross_val_predict(svc, X_train, y_train, cv=5,\n",
    "                             method=\"decision_function\")\n",
    "\n",
    "tree_pred = cross_val_predict(tree_clf, X_train, y_train, cv=5)"
   ]
  },
  {
   "cell_type": "code",
   "execution_count": 58,
   "metadata": {
    "execution": {
     "iopub.execute_input": "2021-03-13T07:46:36.504940Z",
     "iopub.status.busy": "2021-03-13T07:46:36.504083Z",
     "iopub.status.idle": "2021-03-13T07:46:40.475349Z",
     "shell.execute_reply": "2021-03-13T07:46:40.474792Z"
    },
    "papermill": {
     "duration": 4.038186,
     "end_time": "2021-03-13T07:46:40.475493",
     "exception": false,
     "start_time": "2021-03-13T07:46:36.437307",
     "status": "completed"
    },
    "tags": []
   },
   "outputs": [],
   "source": [
    "r_tree_pred = cross_val_predict(random_tree_clf, X_train, y_train, cv=5)"
   ]
  },
  {
   "cell_type": "code",
   "execution_count": null,
   "metadata": {
    "papermill": {
     "duration": 0.061841,
     "end_time": "2021-03-13T07:46:40.599009",
     "exception": false,
     "start_time": "2021-03-13T07:46:40.537168",
     "status": "completed"
    },
    "tags": []
   },
   "outputs": [],
   "source": []
  },
  {
   "cell_type": "code",
   "execution_count": 59,
   "metadata": {
    "execution": {
     "iopub.execute_input": "2021-03-13T07:46:40.728566Z",
     "iopub.status.busy": "2021-03-13T07:46:40.727599Z",
     "iopub.status.idle": "2021-03-13T07:46:40.741411Z",
     "shell.execute_reply": "2021-03-13T07:46:40.740519Z"
    },
    "papermill": {
     "duration": 0.080441,
     "end_time": "2021-03-13T07:46:40.741640",
     "exception": false,
     "start_time": "2021-03-13T07:46:40.661199",
     "status": "completed"
    },
    "tags": []
   },
   "outputs": [
    {
     "name": "stdout",
     "output_type": "stream",
     "text": [
      "Logistic Regression:  0.8443287136175972\n",
      "KNears Neighbors:  0.7805792061398249\n",
      "Support Vector Classifier:  0.8376818049440665\n",
      "Decision Tree Classifier:  0.787337467664845\n"
     ]
    }
   ],
   "source": [
    "from sklearn.metrics import roc_auc_score\n",
    "\n",
    "print('Logistic Regression: ', roc_auc_score(y_train, log_reg_pred))\n",
    "print('KNears Neighbors: ', roc_auc_score(y_train, knears_pred))\n",
    "print('Support Vector Classifier: ', roc_auc_score(y_train, svc_pred))\n",
    "print('Decision Tree Classifier: ', roc_auc_score(y_train, tree_pred))"
   ]
  },
  {
   "cell_type": "code",
   "execution_count": 60,
   "metadata": {
    "execution": {
     "iopub.execute_input": "2021-03-13T07:46:40.882001Z",
     "iopub.status.busy": "2021-03-13T07:46:40.880979Z",
     "iopub.status.idle": "2021-03-13T07:46:41.162531Z",
     "shell.execute_reply": "2021-03-13T07:46:41.163028Z"
    },
    "papermill": {
     "duration": 0.35754,
     "end_time": "2021-03-13T07:46:41.163237",
     "exception": false,
     "start_time": "2021-03-13T07:46:40.805697",
     "status": "completed"
    },
    "tags": []
   },
   "outputs": [
    {
     "data": {
      "image/png": "[encoded data removed]",
      "text/plain": [
       "<Figure size 1152x576 with 1 Axes>"
      ]
     },
     "metadata": {
      "needs_background": "light"
     },
     "output_type": "display_data"
    }
   ],
   "source": [
    "log_fpr, log_tpr, log_thresold = roc_curve(y_train, log_reg_pred)\n",
    "knear_fpr, knear_tpr, knear_threshold = roc_curve(y_train, knears_pred)\n",
    "svc_fpr, svc_tpr, svc_threshold = roc_curve(y_train, svc_pred)\n",
    "tree_fpr, tree_tpr, tree_threshold = roc_curve(y_train, tree_pred)\n",
    "\n",
    "\n",
    "def graph_roc_curve_multiple(log_fpr, log_tpr, knear_fpr, knear_tpr, svc_fpr, svc_tpr, tree_fpr, tree_tpr):\n",
    "    plt.figure(figsize=(16,8))\n",
    "    plt.title('ROC Curve \\n Top 4 Classifiers', fontsize=18)\n",
    "    plt.plot(log_fpr, log_tpr, label='Logistic Regression Classifier Score: {:.4f}'.format(roc_auc_score(y_train, log_reg_pred)))\n",
    "    plt.plot(knear_fpr, knear_tpr, label='KNears Neighbors Classifier Score: {:.4f}'.format(roc_auc_score(y_train, knears_pred)))\n",
    "    plt.plot(svc_fpr, svc_tpr, label='Support Vector Classifier Score: {:.4f}'.format(roc_auc_score(y_train, svc_pred)))\n",
    "    plt.plot(tree_fpr, tree_tpr, label='Decision Tree Classifier Score: {:.4f}'.format(roc_auc_score(y_train, tree_pred)))\n",
    "    plt.plot([0, 1], [0, 1], 'k--')\n",
    "    plt.axis([-0.01, 1, 0, 1])\n",
    "    plt.xlabel('False Positive Rate', fontsize=16)\n",
    "    plt.ylabel('True Positive Rate', fontsize=16)\n",
    "    plt.annotate('Minimum ROC Score of 50% \\n (This is the minimum score to get)', xy=(0.5, 0.5), xytext=(0.6, 0.3),\n",
    "                arrowprops=dict(facecolor='#6E726D', shrink=0.05),\n",
    "                )\n",
    "    plt.legend()\n",
    "    \n",
    "graph_roc_curve_multiple(log_fpr, log_tpr, knear_fpr, knear_tpr, svc_fpr, svc_tpr, tree_fpr, tree_tpr)\n",
    "plt.show()"
   ]
  },
  {
   "cell_type": "code",
   "execution_count": 61,
   "metadata": {
    "execution": {
     "iopub.execute_input": "2021-03-13T07:46:41.299512Z",
     "iopub.status.busy": "2021-03-13T07:46:41.298741Z",
     "iopub.status.idle": "2021-03-13T07:46:41.301961Z",
     "shell.execute_reply": "2021-03-13T07:46:41.302396Z"
    },
    "papermill": {
     "duration": 0.073149,
     "end_time": "2021-03-13T07:46:41.302566",
     "exception": false,
     "start_time": "2021-03-13T07:46:41.229417",
     "status": "completed"
    },
    "tags": []
   },
   "outputs": [],
   "source": [
    "r_tree_fpr, r_tree_tpr, r_tree_threshold = roc_curve(y_train, r_tree_pred)\n"
   ]
  },
  {
   "cell_type": "code",
   "execution_count": 62,
   "metadata": {
    "execution": {
     "iopub.execute_input": "2021-03-13T07:46:41.473564Z",
     "iopub.status.busy": "2021-03-13T07:46:41.462179Z",
     "iopub.status.idle": "2021-03-13T07:46:41.589945Z",
     "shell.execute_reply": "2021-03-13T07:46:41.590368Z"
    },
    "papermill": {
     "duration": 0.222623,
     "end_time": "2021-03-13T07:46:41.590538",
     "exception": false,
     "start_time": "2021-03-13T07:46:41.367915",
     "status": "completed"
    },
    "tags": []
   },
   "outputs": [
    {
     "data": {
      "image/png": "[encoded data removed]",
      "text/plain": [
       "<Figure size 864x576 with 1 Axes>"
      ]
     },
     "metadata": {
      "needs_background": "light"
     },
     "output_type": "display_data"
    }
   ],
   "source": [
    "def logistic_roc_curve(log_fpr, log_tpr):\n",
    "    plt.figure(figsize=(12,8))\n",
    "    plt.title('Logistic Regression ROC Curve', fontsize=16)\n",
    "    plt.plot(log_fpr, log_tpr, 'b-', linewidth=2)\n",
    "    plt.plot([0, 1], [0, 1], 'r--')\n",
    "    plt.xlabel('False Positive Rate', fontsize=16)\n",
    "    plt.ylabel('True Positive Rate', fontsize=16)\n",
    "    plt.axis([-0.01,1,0,1])\n",
    "    \n",
    "    \n",
    "logistic_roc_curve(log_fpr, log_tpr)\n",
    "plt.show()"
   ]
  },
  {
   "cell_type": "code",
   "execution_count": 63,
   "metadata": {
    "execution": {
     "iopub.execute_input": "2021-03-13T07:46:41.724916Z",
     "iopub.status.busy": "2021-03-13T07:46:41.724072Z",
     "iopub.status.idle": "2021-03-13T07:46:41.870724Z",
     "shell.execute_reply": "2021-03-13T07:46:41.871159Z"
    },
    "papermill": {
     "duration": 0.215174,
     "end_time": "2021-03-13T07:46:41.871341",
     "exception": false,
     "start_time": "2021-03-13T07:46:41.656167",
     "status": "completed"
    },
    "tags": []
   },
   "outputs": [
    {
     "data": {
      "image/png": "[encoded data removed]",
      "text/plain": [
       "<Figure size 864x576 with 1 Axes>"
      ]
     },
     "metadata": {
      "needs_background": "light"
     },
     "output_type": "display_data"
    }
   ],
   "source": [
    "logistic_roc_curve(r_tree_fpr, r_tree_tpr)\n",
    "plt.show()"
   ]
  },
  {
   "cell_type": "code",
   "execution_count": 64,
   "metadata": {
    "execution": {
     "iopub.execute_input": "2021-03-13T07:46:42.010702Z",
     "iopub.status.busy": "2021-03-13T07:46:42.010028Z",
     "iopub.status.idle": "2021-03-13T07:46:42.014186Z",
     "shell.execute_reply": "2021-03-13T07:46:42.014758Z"
    },
    "papermill": {
     "duration": 0.074974,
     "end_time": "2021-03-13T07:46:42.014924",
     "exception": false,
     "start_time": "2021-03-13T07:46:41.939950",
     "status": "completed"
    },
    "tags": []
   },
   "outputs": [],
   "source": [
    "from sklearn.metrics import precision_recall_curve\n",
    "\n",
    "precision, recall, threshold = precision_recall_curve(y_train, log_reg_pred)"
   ]
  },
  {
   "cell_type": "code",
   "execution_count": 65,
   "metadata": {
    "execution": {
     "iopub.execute_input": "2021-03-13T07:46:42.154739Z",
     "iopub.status.busy": "2021-03-13T07:46:42.154112Z",
     "iopub.status.idle": "2021-03-13T07:46:42.166010Z",
     "shell.execute_reply": "2021-03-13T07:46:42.166470Z"
    },
    "papermill": {
     "duration": 0.083442,
     "end_time": "2021-03-13T07:46:42.166634",
     "exception": false,
     "start_time": "2021-03-13T07:46:42.083192",
     "status": "completed"
    },
    "tags": []
   },
   "outputs": [
    {
     "name": "stdout",
     "output_type": "stream",
     "text": [
      "---------------------------------------------------------------------------------------------------------------------------------------\n",
      "Overfitting: \n",
      "\n",
      "Recall Score: 0.70\n",
      "Precision Score: 0.78\n",
      "F1 Score: 0.74\n",
      "Accuracy Score: 0.81\n"
     ]
    }
   ],
   "source": [
    "from sklearn.metrics import recall_score, precision_score, f1_score, accuracy_score\n",
    "y_pred = log_reg.predict(X_train)\n",
    "\n",
    "# Overfitting Case\n",
    "print('---' * 45)\n",
    "print('Overfitting: \\n')\n",
    "print('Recall Score: {:.2f}'.format(recall_score(y_train, y_pred)))\n",
    "print('Precision Score: {:.2f}'.format(precision_score(y_train, y_pred)))\n",
    "print('F1 Score: {:.2f}'.format(f1_score(y_train, y_pred)))\n",
    "print('Accuracy Score: {:.2f}'.format(accuracy_score(y_train, y_pred)))\n"
   ]
  },
  {
   "cell_type": "code",
   "execution_count": 66,
   "metadata": {
    "execution": {
     "iopub.execute_input": "2021-03-13T07:46:42.304909Z",
     "iopub.status.busy": "2021-03-13T07:46:42.304359Z",
     "iopub.status.idle": "2021-03-13T07:46:43.160445Z",
     "shell.execute_reply": "2021-03-13T07:46:43.159845Z"
    },
    "papermill": {
     "duration": 0.926168,
     "end_time": "2021-03-13T07:46:43.160580",
     "exception": false,
     "start_time": "2021-03-13T07:46:42.234412",
     "status": "completed"
    },
    "tags": []
   },
   "outputs": [
    {
     "data": {
      "image/png": "[encoded data removed]",
      "text/plain": [
       "<Figure size 1584x864 with 8 Axes>"
      ]
     },
     "metadata": {
      "needs_background": "light"
     },
     "output_type": "display_data"
    }
   ],
   "source": [
    "from sklearn.metrics import confusion_matrix\n",
    "\n",
    "# Logistic Regression fitted using SMOTE technique\n",
    "y_pred_log_reg = log_reg.predict(X_test)\n",
    "\n",
    "# Other models fitted with UnderSampling\n",
    "y_pred_knear = knears_neighbors.predict(X_test)\n",
    "y_pred_svc = svc.predict(X_test)\n",
    "y_pred_tree = tree_clf.predict(X_test)\n",
    "\n",
    "\n",
    "log_reg_cf = confusion_matrix(y_test, y_pred_log_reg)\n",
    "kneighbors_cf = confusion_matrix(y_test, y_pred_knear)\n",
    "svc_cf = confusion_matrix(y_test, y_pred_svc)\n",
    "tree_cf = confusion_matrix(y_test, y_pred_tree)\n",
    "\n",
    "fig, ax = plt.subplots(2, 2,figsize=(22,12))\n",
    "\n",
    "\n",
    "sns.heatmap(log_reg_cf, ax=ax[0][0], annot=True, cmap=plt.cm.copper)\n",
    "ax[0, 0].set_title(\"Logistic Regression \\n Confusion Matrix\", fontsize=14)\n",
    "ax[0, 0].set_xticklabels(['', ''], fontsize=14, rotation=90)\n",
    "ax[0, 0].set_yticklabels(['', ''], fontsize=14, rotation=360)\n",
    "\n",
    "sns.heatmap(kneighbors_cf, ax=ax[0][1], annot=True, cmap=plt.cm.copper)\n",
    "ax[0][1].set_title(\"KNearsNeighbors \\n Confusion Matrix\", fontsize=14)\n",
    "ax[0][1].set_xticklabels(['', ''], fontsize=14, rotation=90)\n",
    "ax[0][1].set_yticklabels(['', ''], fontsize=14, rotation=360)\n",
    "\n",
    "sns.heatmap(svc_cf, ax=ax[1][0], annot=True, cmap=plt.cm.copper)\n",
    "ax[1][0].set_title(\"Suppor Vector Classifier \\n Confusion Matrix\", fontsize=14)\n",
    "ax[1][0].set_xticklabels(['', ''], fontsize=14, rotation=90)\n",
    "ax[1][0].set_yticklabels(['', ''], fontsize=14, rotation=360)\n",
    "\n",
    "sns.heatmap(tree_cf, ax=ax[1][1], annot=True, cmap=plt.cm.copper)\n",
    "ax[1][1].set_title(\"DecisionTree Classifier \\n Confusion Matrix\", fontsize=14)\n",
    "ax[1][1].set_xticklabels(['', ''], fontsize=14, rotation=90)\n",
    "ax[1][1].set_yticklabels(['', ''], fontsize=14, rotation=360)\n",
    "\n",
    "\n",
    "plt.show()"
   ]
  },
  {
   "cell_type": "code",
   "execution_count": 67,
   "metadata": {
    "execution": {
     "iopub.execute_input": "2021-03-13T07:46:43.306084Z",
     "iopub.status.busy": "2021-03-13T07:46:43.305504Z",
     "iopub.status.idle": "2021-03-13T07:46:43.517762Z",
     "shell.execute_reply": "2021-03-13T07:46:43.518213Z"
    },
    "papermill": {
     "duration": 0.288492,
     "end_time": "2021-03-13T07:46:43.518372",
     "exception": false,
     "start_time": "2021-03-13T07:46:43.229880",
     "status": "completed"
    },
    "tags": []
   },
   "outputs": [
    {
     "name": "stdout",
     "output_type": "stream",
     "text": [
      "[[93 15]\n",
      " [13 55]]\n"
     ]
    },
    {
     "data": {
      "image/png": "[encoded data removed]",
      "text/plain": [
       "<Figure size 432x288 with 2 Axes>"
      ]
     },
     "metadata": {
      "needs_background": "light"
     },
     "output_type": "display_data"
    }
   ],
   "source": [
    "y_pred_r_tree = random_tree_clf.predict(X_test)\n",
    "r_tree_cf = confusion_matrix(y_test, y_pred_r_tree)\n",
    "print(r_tree_cf)\n",
    "sns.heatmap(r_tree_cf,annot=True, cmap=plt.cm.copper)\n",
    "plt.show()"
   ]
  },
  {
   "cell_type": "code",
   "execution_count": null,
   "metadata": {
    "papermill": {
     "duration": 0.070064,
     "end_time": "2021-03-13T07:46:43.658313",
     "exception": false,
     "start_time": "2021-03-13T07:46:43.588249",
     "status": "completed"
    },
    "tags": []
   },
   "outputs": [],
   "source": []
  },
  {
   "cell_type": "code",
   "execution_count": 68,
   "metadata": {
    "execution": {
     "iopub.execute_input": "2021-03-13T07:46:43.805796Z",
     "iopub.status.busy": "2021-03-13T07:46:43.804933Z",
     "iopub.status.idle": "2021-03-13T07:46:43.832204Z",
     "shell.execute_reply": "2021-03-13T07:46:43.831623Z"
    },
    "papermill": {
     "duration": 0.104353,
     "end_time": "2021-03-13T07:46:43.832340",
     "exception": false,
     "start_time": "2021-03-13T07:46:43.727987",
     "status": "completed"
    },
    "tags": []
   },
   "outputs": [
    {
     "name": "stdout",
     "output_type": "stream",
     "text": [
      "Logistic Regression:\n",
      "              precision    recall  f1-score   support\n",
      "\n",
      "         0.0       0.81      0.76      0.78       108\n",
      "         1.0       0.65      0.72      0.69        68\n",
      "\n",
      "    accuracy                           0.74       176\n",
      "   macro avg       0.73      0.74      0.74       176\n",
      "weighted avg       0.75      0.74      0.75       176\n",
      "\n",
      "KNears Neighbors:\n",
      "              precision    recall  f1-score   support\n",
      "\n",
      "         0.0       0.86      0.81      0.83       108\n",
      "         1.0       0.72      0.79      0.76        68\n",
      "\n",
      "    accuracy                           0.80       176\n",
      "   macro avg       0.79      0.80      0.79       176\n",
      "weighted avg       0.81      0.80      0.80       176\n",
      "\n",
      "Support Vector Classifier:\n",
      "              precision    recall  f1-score   support\n",
      "\n",
      "         0.0       0.82      0.87      0.84       108\n",
      "         1.0       0.77      0.69      0.73        68\n",
      "\n",
      "    accuracy                           0.80       176\n",
      "   macro avg       0.79      0.78      0.79       176\n",
      "weighted avg       0.80      0.80      0.80       176\n",
      "\n",
      "Support Vector Classifier:\n",
      "              precision    recall  f1-score   support\n",
      "\n",
      "         0.0       0.84      0.84      0.84       108\n",
      "         1.0       0.75      0.75      0.75        68\n",
      "\n",
      "    accuracy                           0.81       176\n",
      "   macro avg       0.80      0.80      0.80       176\n",
      "weighted avg       0.81      0.81      0.81       176\n",
      "\n",
      "random forest Support Vector Classifier:\n",
      "              precision    recall  f1-score   support\n",
      "\n",
      "         0.0       0.88      0.86      0.87       108\n",
      "         1.0       0.79      0.81      0.80        68\n",
      "\n",
      "    accuracy                           0.84       176\n",
      "   macro avg       0.83      0.83      0.83       176\n",
      "weighted avg       0.84      0.84      0.84       176\n",
      "\n"
     ]
    }
   ],
   "source": [
    "from sklearn.metrics import classification_report\n",
    "\n",
    "\n",
    "print('Logistic Regression:')\n",
    "print(classification_report(y_test, y_pred_log_reg))\n",
    "\n",
    "print('KNears Neighbors:')\n",
    "print(classification_report(y_test, y_pred_knear))\n",
    "\n",
    "print('Support Vector Classifier:')\n",
    "print(classification_report(y_test, y_pred_svc))\n",
    "\n",
    "print('Support Vector Classifier:')\n",
    "print(classification_report(y_test, y_pred_tree))\n",
    "print('random forest Support Vector Classifier:')\n",
    "print(classification_report(y_test, y_pred_r_tree))"
   ]
  },
  {
   "cell_type": "code",
   "execution_count": 69,
   "metadata": {
    "execution": {
     "iopub.execute_input": "2021-03-13T07:46:43.983495Z",
     "iopub.status.busy": "2021-03-13T07:46:43.982645Z",
     "iopub.status.idle": "2021-03-13T07:46:44.017325Z",
     "shell.execute_reply": "2021-03-13T07:46:44.016726Z"
    },
    "papermill": {
     "duration": 0.111398,
     "end_time": "2021-03-13T07:46:44.017462",
     "exception": false,
     "start_time": "2021-03-13T07:46:43.906064",
     "status": "completed"
    },
    "tags": []
   },
   "outputs": [
    {
     "name": "stdout",
     "output_type": "stream",
     "text": [
      "---------------------------------------------------------------------------------------------------------------------------------------\n",
      "Overfitting: \n",
      "\n",
      "Recall Score: 0.81\n",
      "Precision Score: 0.85\n",
      "F1 Score: 0.83\n",
      "Accuracy Score: 0.87\n"
     ]
    }
   ],
   "source": [
    "from sklearn.metrics import recall_score, precision_score, f1_score, accuracy_score\n",
    "y_pred = knears_neighbors.predict(X_train)\n",
    "\n",
    "# Overfitting Case\n",
    "print('---' * 45)\n",
    "print('Overfitting: \\n')\n",
    "print('Recall Score: {:.2f}'.format(recall_score(y_train, y_pred)))\n",
    "print('Precision Score: {:.2f}'.format(precision_score(y_train, y_pred)))\n",
    "print('F1 Score: {:.2f}'.format(f1_score(y_train, y_pred)))\n",
    "print('Accuracy Score: {:.2f}'.format(accuracy_score(y_train, y_pred)))"
   ]
  },
  {
   "cell_type": "code",
   "execution_count": 70,
   "metadata": {
    "execution": {
     "iopub.execute_input": "2021-03-13T07:46:44.168123Z",
     "iopub.status.busy": "2021-03-13T07:46:44.165599Z",
     "iopub.status.idle": "2021-03-13T07:46:44.260459Z",
     "shell.execute_reply": "2021-03-13T07:46:44.261007Z"
    },
    "papermill": {
     "duration": 0.172556,
     "end_time": "2021-03-13T07:46:44.261209",
     "exception": false,
     "start_time": "2021-03-13T07:46:44.088653",
     "status": "completed"
    },
    "tags": []
   },
   "outputs": [
    {
     "name": "stdout",
     "output_type": "stream",
     "text": [
      "---------------------------------------------------------------------------------------------------------------------------------------\n",
      "Overfitting: \n",
      "\n",
      "Recall Score: 0.84\n",
      "Precision Score: 0.96\n",
      "F1 Score: 0.90\n",
      "Accuracy Score: 0.92\n"
     ]
    }
   ],
   "source": [
    "from sklearn.metrics import recall_score, precision_score, f1_score, accuracy_score\n",
    "y_pred = random_tree_clf.predict(X_train)\n",
    "\n",
    "# Overfitting Case\n",
    "print('---' * 45)\n",
    "print('Overfitting: \\n')\n",
    "print('Recall Score: {:.2f}'.format(recall_score(y_train, y_pred)))\n",
    "print('Precision Score: {:.2f}'.format(precision_score(y_train, y_pred)))\n",
    "print('F1 Score: {:.2f}'.format(f1_score(y_train, y_pred)))\n",
    "print('Accuracy Score: {:.2f}'.format(accuracy_score(y_train, y_pred)))"
   ]
  },
  {
   "cell_type": "code",
   "execution_count": 71,
   "metadata": {
    "execution": {
     "iopub.execute_input": "2021-03-13T07:46:44.412187Z",
     "iopub.status.busy": "2021-03-13T07:46:44.411559Z",
     "iopub.status.idle": "2021-03-13T07:46:44.427073Z",
     "shell.execute_reply": "2021-03-13T07:46:44.426503Z"
    },
    "papermill": {
     "duration": 0.092907,
     "end_time": "2021-03-13T07:46:44.427215",
     "exception": false,
     "start_time": "2021-03-13T07:46:44.334308",
     "status": "completed"
    },
    "tags": []
   },
   "outputs": [],
   "source": [
    "test_df=pd.read_csv(\"/kaggle/input/titanic/test.csv\")"
   ]
  },
  {
   "cell_type": "code",
   "execution_count": 72,
   "metadata": {
    "execution": {
     "iopub.execute_input": "2021-03-13T07:46:44.588079Z",
     "iopub.status.busy": "2021-03-13T07:46:44.587106Z",
     "iopub.status.idle": "2021-03-13T07:46:44.591248Z",
     "shell.execute_reply": "2021-03-13T07:46:44.590656Z"
    },
    "papermill": {
     "duration": 0.091541,
     "end_time": "2021-03-13T07:46:44.591389",
     "exception": false,
     "start_time": "2021-03-13T07:46:44.499848",
     "status": "completed"
    },
    "tags": []
   },
   "outputs": [
    {
     "data": {
      "text/html": [
       "<div>\n",
       "<style scoped>\n",
       "    .dataframe tbody tr th:only-of-type {\n",
       "        vertical-align: middle;\n",
       "    }\n",
       "\n",
       "    .dataframe tbody tr th {\n",
       "        vertical-align: top;\n",
       "    }\n",
       "\n",
       "    .dataframe thead th {\n",
       "        text-align: right;\n",
       "    }\n",
       "</style>\n",
       "<table border=\"1\" class=\"dataframe\">\n",
       "  <thead>\n",
       "    <tr style=\"text-align: right;\">\n",
       "      <th></th>\n",
       "      <th>PassengerId</th>\n",
       "      <th>Pclass</th>\n",
       "      <th>Name</th>\n",
       "      <th>Sex</th>\n",
       "      <th>Age</th>\n",
       "      <th>SibSp</th>\n",
       "      <th>Parch</th>\n",
       "      <th>Ticket</th>\n",
       "      <th>Fare</th>\n",
       "      <th>Cabin</th>\n",
       "      <th>Embarked</th>\n",
       "    </tr>\n",
       "  </thead>\n",
       "  <tbody>\n",
       "    <tr>\n",
       "      <th>0</th>\n",
       "      <td>892</td>\n",
       "      <td>3</td>\n",
       "      <td>Kelly, Mr. James</td>\n",
       "      <td>male</td>\n",
       "      <td>34.5</td>\n",
       "      <td>0</td>\n",
       "      <td>0</td>\n",
       "      <td>330911</td>\n",
       "      <td>7.8292</td>\n",
       "      <td>NaN</td>\n",
       "      <td>Q</td>\n",
       "    </tr>\n",
       "    <tr>\n",
       "      <th>1</th>\n",
       "      <td>893</td>\n",
       "      <td>3</td>\n",
       "      <td>Wilkes, Mrs. James (Ellen Needs)</td>\n",
       "      <td>female</td>\n",
       "      <td>47.0</td>\n",
       "      <td>1</td>\n",
       "      <td>0</td>\n",
       "      <td>363272</td>\n",
       "      <td>7.0000</td>\n",
       "      <td>NaN</td>\n",
       "      <td>S</td>\n",
       "    </tr>\n",
       "    <tr>\n",
       "      <th>2</th>\n",
       "      <td>894</td>\n",
       "      <td>2</td>\n",
       "      <td>Myles, Mr. Thomas Francis</td>\n",
       "      <td>male</td>\n",
       "      <td>62.0</td>\n",
       "      <td>0</td>\n",
       "      <td>0</td>\n",
       "      <td>240276</td>\n",
       "      <td>9.6875</td>\n",
       "      <td>NaN</td>\n",
       "      <td>Q</td>\n",
       "    </tr>\n",
       "    <tr>\n",
       "      <th>3</th>\n",
       "      <td>895</td>\n",
       "      <td>3</td>\n",
       "      <td>Wirz, Mr. Albert</td>\n",
       "      <td>male</td>\n",
       "      <td>27.0</td>\n",
       "      <td>0</td>\n",
       "      <td>0</td>\n",
       "      <td>315154</td>\n",
       "      <td>8.6625</td>\n",
       "      <td>NaN</td>\n",
       "      <td>S</td>\n",
       "    </tr>\n",
       "    <tr>\n",
       "      <th>4</th>\n",
       "      <td>896</td>\n",
       "      <td>3</td>\n",
       "      <td>Hirvonen, Mrs. Alexander (Helga E Lindqvist)</td>\n",
       "      <td>female</td>\n",
       "      <td>22.0</td>\n",
       "      <td>1</td>\n",
       "      <td>1</td>\n",
       "      <td>3101298</td>\n",
       "      <td>12.2875</td>\n",
       "      <td>NaN</td>\n",
       "      <td>S</td>\n",
       "    </tr>\n",
       "  </tbody>\n",
       "</table>\n",
       "</div>"
      ],
      "text/plain": [
       "   PassengerId  Pclass                                          Name     Sex  \\\n",
       "0          892       3                              Kelly, Mr. James    male   \n",
       "1          893       3              Wilkes, Mrs. James (Ellen Needs)  female   \n",
       "2          894       2                     Myles, Mr. Thomas Francis    male   \n",
       "3          895       3                              Wirz, Mr. Albert    male   \n",
       "4          896       3  Hirvonen, Mrs. Alexander (Helga E Lindqvist)  female   \n",
       "\n",
       "    Age  SibSp  Parch   Ticket     Fare Cabin Embarked  \n",
       "0  34.5      0      0   330911   7.8292   NaN        Q  \n",
       "1  47.0      1      0   363272   7.0000   NaN        S  \n",
       "2  62.0      0      0   240276   9.6875   NaN        Q  \n",
       "3  27.0      0      0   315154   8.6625   NaN        S  \n",
       "4  22.0      1      1  3101298  12.2875   NaN        S  "
      ]
     },
     "execution_count": 72,
     "metadata": {},
     "output_type": "execute_result"
    }
   ],
   "source": [
    "test_df.head()"
   ]
  },
  {
   "cell_type": "code",
   "execution_count": 73,
   "metadata": {
    "execution": {
     "iopub.execute_input": "2021-03-13T07:46:44.740926Z",
     "iopub.status.busy": "2021-03-13T07:46:44.740353Z",
     "iopub.status.idle": "2021-03-13T07:46:44.758300Z",
     "shell.execute_reply": "2021-03-13T07:46:44.757556Z"
    },
    "papermill": {
     "duration": 0.094578,
     "end_time": "2021-03-13T07:46:44.758499",
     "exception": false,
     "start_time": "2021-03-13T07:46:44.663921",
     "status": "completed"
    },
    "tags": []
   },
   "outputs": [
    {
     "data": {
      "text/html": [
       "<div>\n",
       "<style scoped>\n",
       "    .dataframe tbody tr th:only-of-type {\n",
       "        vertical-align: middle;\n",
       "    }\n",
       "\n",
       "    .dataframe tbody tr th {\n",
       "        vertical-align: top;\n",
       "    }\n",
       "\n",
       "    .dataframe thead th {\n",
       "        text-align: right;\n",
       "    }\n",
       "</style>\n",
       "<table border=\"1\" class=\"dataframe\">\n",
       "  <thead>\n",
       "    <tr style=\"text-align: right;\">\n",
       "      <th></th>\n",
       "      <th>PassengerId</th>\n",
       "      <th>Survived</th>\n",
       "    </tr>\n",
       "  </thead>\n",
       "  <tbody>\n",
       "    <tr>\n",
       "      <th>0</th>\n",
       "      <td>892</td>\n",
       "      <td>0</td>\n",
       "    </tr>\n",
       "    <tr>\n",
       "      <th>1</th>\n",
       "      <td>893</td>\n",
       "      <td>1</td>\n",
       "    </tr>\n",
       "    <tr>\n",
       "      <th>2</th>\n",
       "      <td>894</td>\n",
       "      <td>0</td>\n",
       "    </tr>\n",
       "    <tr>\n",
       "      <th>3</th>\n",
       "      <td>895</td>\n",
       "      <td>0</td>\n",
       "    </tr>\n",
       "    <tr>\n",
       "      <th>4</th>\n",
       "      <td>896</td>\n",
       "      <td>1</td>\n",
       "    </tr>\n",
       "  </tbody>\n",
       "</table>\n",
       "</div>"
      ],
      "text/plain": [
       "   PassengerId  Survived\n",
       "0          892         0\n",
       "1          893         1\n",
       "2          894         0\n",
       "3          895         0\n",
       "4          896         1"
      ]
     },
     "execution_count": 73,
     "metadata": {},
     "output_type": "execute_result"
    }
   ],
   "source": [
    "gender_df=pd.read_csv(\"/kaggle/input/titanic/gender_submission.csv\")\n",
    "gender_df.head()"
   ]
  },
  {
   "cell_type": "code",
   "execution_count": 74,
   "metadata": {
    "execution": {
     "iopub.execute_input": "2021-03-13T07:46:44.952487Z",
     "iopub.status.busy": "2021-03-13T07:46:44.951528Z",
     "iopub.status.idle": "2021-03-13T07:46:44.953839Z",
     "shell.execute_reply": "2021-03-13T07:46:44.954477Z"
    },
    "papermill": {
     "duration": 0.10457,
     "end_time": "2021-03-13T07:46:44.954648",
     "exception": false,
     "start_time": "2021-03-13T07:46:44.850078",
     "status": "completed"
    },
    "tags": []
   },
   "outputs": [],
   "source": [
    "test_df=test_df.drop(['PassengerId','Name','Ticket','Cabin'],axis=1)"
   ]
  },
  {
   "cell_type": "code",
   "execution_count": 75,
   "metadata": {
    "execution": {
     "iopub.execute_input": "2021-03-13T07:46:45.143157Z",
     "iopub.status.busy": "2021-03-13T07:46:45.139169Z",
     "iopub.status.idle": "2021-03-13T07:46:45.157383Z",
     "shell.execute_reply": "2021-03-13T07:46:45.157947Z"
    },
    "papermill": {
     "duration": 0.103048,
     "end_time": "2021-03-13T07:46:45.158162",
     "exception": false,
     "start_time": "2021-03-13T07:46:45.055114",
     "status": "completed"
    },
    "tags": []
   },
   "outputs": [
    {
     "data": {
      "text/html": [
       "<div>\n",
       "<style scoped>\n",
       "    .dataframe tbody tr th:only-of-type {\n",
       "        vertical-align: middle;\n",
       "    }\n",
       "\n",
       "    .dataframe tbody tr th {\n",
       "        vertical-align: top;\n",
       "    }\n",
       "\n",
       "    .dataframe thead th {\n",
       "        text-align: right;\n",
       "    }\n",
       "</style>\n",
       "<table border=\"1\" class=\"dataframe\">\n",
       "  <thead>\n",
       "    <tr style=\"text-align: right;\">\n",
       "      <th></th>\n",
       "      <th>Pclass</th>\n",
       "      <th>Sex</th>\n",
       "      <th>Age</th>\n",
       "      <th>SibSp</th>\n",
       "      <th>Parch</th>\n",
       "      <th>Fare</th>\n",
       "      <th>Embarked</th>\n",
       "    </tr>\n",
       "  </thead>\n",
       "  <tbody>\n",
       "    <tr>\n",
       "      <th>0</th>\n",
       "      <td>3</td>\n",
       "      <td>male</td>\n",
       "      <td>34.5</td>\n",
       "      <td>0</td>\n",
       "      <td>0</td>\n",
       "      <td>7.8292</td>\n",
       "      <td>Q</td>\n",
       "    </tr>\n",
       "    <tr>\n",
       "      <th>1</th>\n",
       "      <td>3</td>\n",
       "      <td>female</td>\n",
       "      <td>47.0</td>\n",
       "      <td>1</td>\n",
       "      <td>0</td>\n",
       "      <td>7.0000</td>\n",
       "      <td>S</td>\n",
       "    </tr>\n",
       "    <tr>\n",
       "      <th>2</th>\n",
       "      <td>2</td>\n",
       "      <td>male</td>\n",
       "      <td>62.0</td>\n",
       "      <td>0</td>\n",
       "      <td>0</td>\n",
       "      <td>9.6875</td>\n",
       "      <td>Q</td>\n",
       "    </tr>\n",
       "    <tr>\n",
       "      <th>3</th>\n",
       "      <td>3</td>\n",
       "      <td>male</td>\n",
       "      <td>27.0</td>\n",
       "      <td>0</td>\n",
       "      <td>0</td>\n",
       "      <td>8.6625</td>\n",
       "      <td>S</td>\n",
       "    </tr>\n",
       "    <tr>\n",
       "      <th>4</th>\n",
       "      <td>3</td>\n",
       "      <td>female</td>\n",
       "      <td>22.0</td>\n",
       "      <td>1</td>\n",
       "      <td>1</td>\n",
       "      <td>12.2875</td>\n",
       "      <td>S</td>\n",
       "    </tr>\n",
       "  </tbody>\n",
       "</table>\n",
       "</div>"
      ],
      "text/plain": [
       "   Pclass     Sex   Age  SibSp  Parch     Fare Embarked\n",
       "0       3    male  34.5      0      0   7.8292        Q\n",
       "1       3  female  47.0      1      0   7.0000        S\n",
       "2       2    male  62.0      0      0   9.6875        Q\n",
       "3       3    male  27.0      0      0   8.6625        S\n",
       "4       3  female  22.0      1      1  12.2875        S"
      ]
     },
     "execution_count": 75,
     "metadata": {},
     "output_type": "execute_result"
    }
   ],
   "source": [
    "test_df.head()"
   ]
  },
  {
   "cell_type": "code",
   "execution_count": 76,
   "metadata": {
    "execution": {
     "iopub.execute_input": "2021-03-13T07:46:45.307560Z",
     "iopub.status.busy": "2021-03-13T07:46:45.306940Z",
     "iopub.status.idle": "2021-03-13T07:46:45.312698Z",
     "shell.execute_reply": "2021-03-13T07:46:45.313173Z"
    },
    "papermill": {
     "duration": 0.082289,
     "end_time": "2021-03-13T07:46:45.313349",
     "exception": false,
     "start_time": "2021-03-13T07:46:45.231060",
     "status": "completed"
    },
    "tags": []
   },
   "outputs": [],
   "source": [
    "test_df['Family']=test_df['Parch']+test_df['SibSp']"
   ]
  },
  {
   "cell_type": "code",
   "execution_count": 77,
   "metadata": {
    "execution": {
     "iopub.execute_input": "2021-03-13T07:46:45.465006Z",
     "iopub.status.busy": "2021-03-13T07:46:45.464435Z",
     "iopub.status.idle": "2021-03-13T07:46:45.470496Z",
     "shell.execute_reply": "2021-03-13T07:46:45.470961Z"
    },
    "papermill": {
     "duration": 0.083218,
     "end_time": "2021-03-13T07:46:45.471153",
     "exception": false,
     "start_time": "2021-03-13T07:46:45.387935",
     "status": "completed"
    },
    "tags": []
   },
   "outputs": [],
   "source": [
    "test_df=test_df.drop(['Parch','SibSp'],axis=1)"
   ]
  },
  {
   "cell_type": "code",
   "execution_count": 78,
   "metadata": {
    "execution": {
     "iopub.execute_input": "2021-03-13T07:46:45.670455Z",
     "iopub.status.busy": "2021-03-13T07:46:45.669854Z",
     "iopub.status.idle": "2021-03-13T07:46:45.681449Z",
     "shell.execute_reply": "2021-03-13T07:46:45.680835Z"
    },
    "papermill": {
     "duration": 0.092168,
     "end_time": "2021-03-13T07:46:45.681587",
     "exception": false,
     "start_time": "2021-03-13T07:46:45.589419",
     "status": "completed"
    },
    "tags": []
   },
   "outputs": [
    {
     "data": {
      "text/html": [
       "<div>\n",
       "<style scoped>\n",
       "    .dataframe tbody tr th:only-of-type {\n",
       "        vertical-align: middle;\n",
       "    }\n",
       "\n",
       "    .dataframe tbody tr th {\n",
       "        vertical-align: top;\n",
       "    }\n",
       "\n",
       "    .dataframe thead th {\n",
       "        text-align: right;\n",
       "    }\n",
       "</style>\n",
       "<table border=\"1\" class=\"dataframe\">\n",
       "  <thead>\n",
       "    <tr style=\"text-align: right;\">\n",
       "      <th></th>\n",
       "      <th>Pclass</th>\n",
       "      <th>Sex</th>\n",
       "      <th>Age</th>\n",
       "      <th>Fare</th>\n",
       "      <th>Embarked</th>\n",
       "      <th>Family</th>\n",
       "    </tr>\n",
       "  </thead>\n",
       "  <tbody>\n",
       "    <tr>\n",
       "      <th>0</th>\n",
       "      <td>3</td>\n",
       "      <td>male</td>\n",
       "      <td>34.5</td>\n",
       "      <td>7.8292</td>\n",
       "      <td>Q</td>\n",
       "      <td>0</td>\n",
       "    </tr>\n",
       "    <tr>\n",
       "      <th>1</th>\n",
       "      <td>3</td>\n",
       "      <td>female</td>\n",
       "      <td>47.0</td>\n",
       "      <td>7.0000</td>\n",
       "      <td>S</td>\n",
       "      <td>1</td>\n",
       "    </tr>\n",
       "    <tr>\n",
       "      <th>2</th>\n",
       "      <td>2</td>\n",
       "      <td>male</td>\n",
       "      <td>62.0</td>\n",
       "      <td>9.6875</td>\n",
       "      <td>Q</td>\n",
       "      <td>0</td>\n",
       "    </tr>\n",
       "    <tr>\n",
       "      <th>3</th>\n",
       "      <td>3</td>\n",
       "      <td>male</td>\n",
       "      <td>27.0</td>\n",
       "      <td>8.6625</td>\n",
       "      <td>S</td>\n",
       "      <td>0</td>\n",
       "    </tr>\n",
       "    <tr>\n",
       "      <th>4</th>\n",
       "      <td>3</td>\n",
       "      <td>female</td>\n",
       "      <td>22.0</td>\n",
       "      <td>12.2875</td>\n",
       "      <td>S</td>\n",
       "      <td>2</td>\n",
       "    </tr>\n",
       "  </tbody>\n",
       "</table>\n",
       "</div>"
      ],
      "text/plain": [
       "   Pclass     Sex   Age     Fare Embarked  Family\n",
       "0       3    male  34.5   7.8292        Q       0\n",
       "1       3  female  47.0   7.0000        S       1\n",
       "2       2    male  62.0   9.6875        Q       0\n",
       "3       3    male  27.0   8.6625        S       0\n",
       "4       3  female  22.0  12.2875        S       2"
      ]
     },
     "execution_count": 78,
     "metadata": {},
     "output_type": "execute_result"
    }
   ],
   "source": [
    "test_df.head()"
   ]
  },
  {
   "cell_type": "code",
   "execution_count": 79,
   "metadata": {
    "execution": {
     "iopub.execute_input": "2021-03-13T07:46:45.837809Z",
     "iopub.status.busy": "2021-03-13T07:46:45.836804Z",
     "iopub.status.idle": "2021-03-13T07:46:45.841463Z",
     "shell.execute_reply": "2021-03-13T07:46:45.840885Z"
    },
    "papermill": {
     "duration": 0.085542,
     "end_time": "2021-03-13T07:46:45.841599",
     "exception": false,
     "start_time": "2021-03-13T07:46:45.756057",
     "status": "completed"
    },
    "tags": []
   },
   "outputs": [
    {
     "data": {
      "text/plain": [
       "Pclass       0\n",
       "Sex          0\n",
       "Age         86\n",
       "Fare         1\n",
       "Embarked     0\n",
       "Family       0\n",
       "dtype: int64"
      ]
     },
     "execution_count": 79,
     "metadata": {},
     "output_type": "execute_result"
    }
   ],
   "source": [
    "test_df.isnull().sum()"
   ]
  },
  {
   "cell_type": "code",
   "execution_count": 80,
   "metadata": {
    "execution": {
     "iopub.execute_input": "2021-03-13T07:46:45.995088Z",
     "iopub.status.busy": "2021-03-13T07:46:45.994123Z",
     "iopub.status.idle": "2021-03-13T07:46:45.999116Z",
     "shell.execute_reply": "2021-03-13T07:46:45.999539Z"
    },
    "papermill": {
     "duration": 0.083543,
     "end_time": "2021-03-13T07:46:45.999721",
     "exception": false,
     "start_time": "2021-03-13T07:46:45.916178",
     "status": "completed"
    },
    "tags": []
   },
   "outputs": [],
   "source": [
    "test_df['Age']=test_df['Age'].replace(np.NaN,test_df['Age'].mean())"
   ]
  },
  {
   "cell_type": "code",
   "execution_count": 81,
   "metadata": {
    "execution": {
     "iopub.execute_input": "2021-03-13T07:46:46.154251Z",
     "iopub.status.busy": "2021-03-13T07:46:46.153354Z",
     "iopub.status.idle": "2021-03-13T07:46:46.158229Z",
     "shell.execute_reply": "2021-03-13T07:46:46.158648Z"
    },
    "papermill": {
     "duration": 0.08358,
     "end_time": "2021-03-13T07:46:46.158811",
     "exception": false,
     "start_time": "2021-03-13T07:46:46.075231",
     "status": "completed"
    },
    "tags": []
   },
   "outputs": [],
   "source": [
    "test_df['Fare']=test_df['Fare'].replace(np.NaN,test_df['Fare'].mean())"
   ]
  },
  {
   "cell_type": "code",
   "execution_count": 82,
   "metadata": {
    "execution": {
     "iopub.execute_input": "2021-03-13T07:46:46.313151Z",
     "iopub.status.busy": "2021-03-13T07:46:46.312211Z",
     "iopub.status.idle": "2021-03-13T07:46:46.326001Z",
     "shell.execute_reply": "2021-03-13T07:46:46.325495Z"
    },
    "papermill": {
     "duration": 0.091482,
     "end_time": "2021-03-13T07:46:46.326159",
     "exception": false,
     "start_time": "2021-03-13T07:46:46.234677",
     "status": "completed"
    },
    "tags": []
   },
   "outputs": [
    {
     "data": {
      "text/html": [
       "<div>\n",
       "<style scoped>\n",
       "    .dataframe tbody tr th:only-of-type {\n",
       "        vertical-align: middle;\n",
       "    }\n",
       "\n",
       "    .dataframe tbody tr th {\n",
       "        vertical-align: top;\n",
       "    }\n",
       "\n",
       "    .dataframe thead th {\n",
       "        text-align: right;\n",
       "    }\n",
       "</style>\n",
       "<table border=\"1\" class=\"dataframe\">\n",
       "  <thead>\n",
       "    <tr style=\"text-align: right;\">\n",
       "      <th></th>\n",
       "      <th>Pclass</th>\n",
       "      <th>Sex</th>\n",
       "      <th>Age</th>\n",
       "      <th>Fare</th>\n",
       "      <th>Embarked</th>\n",
       "      <th>Family</th>\n",
       "    </tr>\n",
       "  </thead>\n",
       "  <tbody>\n",
       "    <tr>\n",
       "      <th>0</th>\n",
       "      <td>3</td>\n",
       "      <td>1</td>\n",
       "      <td>34.5</td>\n",
       "      <td>7.8292</td>\n",
       "      <td>1</td>\n",
       "      <td>0</td>\n",
       "    </tr>\n",
       "    <tr>\n",
       "      <th>1</th>\n",
       "      <td>3</td>\n",
       "      <td>2</td>\n",
       "      <td>47.0</td>\n",
       "      <td>7.0000</td>\n",
       "      <td>2</td>\n",
       "      <td>1</td>\n",
       "    </tr>\n",
       "    <tr>\n",
       "      <th>2</th>\n",
       "      <td>2</td>\n",
       "      <td>1</td>\n",
       "      <td>62.0</td>\n",
       "      <td>9.6875</td>\n",
       "      <td>1</td>\n",
       "      <td>0</td>\n",
       "    </tr>\n",
       "    <tr>\n",
       "      <th>3</th>\n",
       "      <td>3</td>\n",
       "      <td>1</td>\n",
       "      <td>27.0</td>\n",
       "      <td>8.6625</td>\n",
       "      <td>2</td>\n",
       "      <td>0</td>\n",
       "    </tr>\n",
       "    <tr>\n",
       "      <th>4</th>\n",
       "      <td>3</td>\n",
       "      <td>2</td>\n",
       "      <td>22.0</td>\n",
       "      <td>12.2875</td>\n",
       "      <td>2</td>\n",
       "      <td>2</td>\n",
       "    </tr>\n",
       "  </tbody>\n",
       "</table>\n",
       "</div>"
      ],
      "text/plain": [
       "   Pclass  Sex   Age     Fare  Embarked  Family\n",
       "0       3    1  34.5   7.8292         1       0\n",
       "1       3    2  47.0   7.0000         2       1\n",
       "2       2    1  62.0   9.6875         1       0\n",
       "3       3    1  27.0   8.6625         2       0\n",
       "4       3    2  22.0  12.2875         2       2"
      ]
     },
     "execution_count": 82,
     "metadata": {},
     "output_type": "execute_result"
    }
   ],
   "source": [
    "test_df['Sex'] = test_df['Sex'].apply(lambda x: 1 if x =='male' else 2)\n",
    "test_df['Embarked'] = labelencoder.fit_transform(test_df['Embarked'])\n",
    "test_df.head()"
   ]
  },
  {
   "cell_type": "code",
   "execution_count": 83,
   "metadata": {
    "execution": {
     "iopub.execute_input": "2021-03-13T07:46:46.483228Z",
     "iopub.status.busy": "2021-03-13T07:46:46.482159Z",
     "iopub.status.idle": "2021-03-13T07:46:46.486066Z",
     "shell.execute_reply": "2021-03-13T07:46:46.485619Z"
    },
    "papermill": {
     "duration": 0.085233,
     "end_time": "2021-03-13T07:46:46.486202",
     "exception": false,
     "start_time": "2021-03-13T07:46:46.400969",
     "status": "completed"
    },
    "tags": []
   },
   "outputs": [
    {
     "data": {
      "text/plain": [
       "Pclass      0\n",
       "Sex         0\n",
       "Age         0\n",
       "Fare        0\n",
       "Embarked    0\n",
       "Family      0\n",
       "dtype: int64"
      ]
     },
     "execution_count": 83,
     "metadata": {},
     "output_type": "execute_result"
    }
   ],
   "source": [
    "test_df.isnull().sum()"
   ]
  },
  {
   "cell_type": "code",
   "execution_count": 84,
   "metadata": {
    "execution": {
     "iopub.execute_input": "2021-03-13T07:46:46.656346Z",
     "iopub.status.busy": "2021-03-13T07:46:46.655541Z",
     "iopub.status.idle": "2021-03-13T07:46:46.659549Z",
     "shell.execute_reply": "2021-03-13T07:46:46.659943Z"
    },
    "papermill": {
     "duration": 0.099502,
     "end_time": "2021-03-13T07:46:46.660139",
     "exception": false,
     "start_time": "2021-03-13T07:46:46.560637",
     "status": "completed"
    },
    "tags": []
   },
   "outputs": [
    {
     "data": {
      "text/html": [
       "<div>\n",
       "<style scoped>\n",
       "    .dataframe tbody tr th:only-of-type {\n",
       "        vertical-align: middle;\n",
       "    }\n",
       "\n",
       "    .dataframe tbody tr th {\n",
       "        vertical-align: top;\n",
       "    }\n",
       "\n",
       "    .dataframe thead th {\n",
       "        text-align: right;\n",
       "    }\n",
       "</style>\n",
       "<table border=\"1\" class=\"dataframe\">\n",
       "  <thead>\n",
       "    <tr style=\"text-align: right;\">\n",
       "      <th></th>\n",
       "      <th>Pclass</th>\n",
       "      <th>Sex</th>\n",
       "      <th>Age</th>\n",
       "      <th>Fare</th>\n",
       "      <th>Embarked</th>\n",
       "      <th>Family</th>\n",
       "    </tr>\n",
       "  </thead>\n",
       "  <tbody>\n",
       "    <tr>\n",
       "      <th>0</th>\n",
       "      <td>1.0</td>\n",
       "      <td>0.0</td>\n",
       "      <td>0.452723</td>\n",
       "      <td>0.015282</td>\n",
       "      <td>0.5</td>\n",
       "      <td>0.0</td>\n",
       "    </tr>\n",
       "    <tr>\n",
       "      <th>1</th>\n",
       "      <td>1.0</td>\n",
       "      <td>1.0</td>\n",
       "      <td>0.617566</td>\n",
       "      <td>0.013663</td>\n",
       "      <td>1.0</td>\n",
       "      <td>0.1</td>\n",
       "    </tr>\n",
       "    <tr>\n",
       "      <th>2</th>\n",
       "      <td>0.5</td>\n",
       "      <td>0.0</td>\n",
       "      <td>0.815377</td>\n",
       "      <td>0.018909</td>\n",
       "      <td>0.5</td>\n",
       "      <td>0.0</td>\n",
       "    </tr>\n",
       "    <tr>\n",
       "      <th>3</th>\n",
       "      <td>1.0</td>\n",
       "      <td>0.0</td>\n",
       "      <td>0.353818</td>\n",
       "      <td>0.016908</td>\n",
       "      <td>1.0</td>\n",
       "      <td>0.0</td>\n",
       "    </tr>\n",
       "    <tr>\n",
       "      <th>4</th>\n",
       "      <td>1.0</td>\n",
       "      <td>1.0</td>\n",
       "      <td>0.287881</td>\n",
       "      <td>0.023984</td>\n",
       "      <td>1.0</td>\n",
       "      <td>0.2</td>\n",
       "    </tr>\n",
       "    <tr>\n",
       "      <th>...</th>\n",
       "      <td>...</td>\n",
       "      <td>...</td>\n",
       "      <td>...</td>\n",
       "      <td>...</td>\n",
       "      <td>...</td>\n",
       "      <td>...</td>\n",
       "    </tr>\n",
       "    <tr>\n",
       "      <th>413</th>\n",
       "      <td>1.0</td>\n",
       "      <td>0.0</td>\n",
       "      <td>0.396975</td>\n",
       "      <td>0.015713</td>\n",
       "      <td>1.0</td>\n",
       "      <td>0.0</td>\n",
       "    </tr>\n",
       "    <tr>\n",
       "      <th>414</th>\n",
       "      <td>0.0</td>\n",
       "      <td>1.0</td>\n",
       "      <td>0.512066</td>\n",
       "      <td>0.212559</td>\n",
       "      <td>0.0</td>\n",
       "      <td>0.0</td>\n",
       "    </tr>\n",
       "    <tr>\n",
       "      <th>415</th>\n",
       "      <td>1.0</td>\n",
       "      <td>0.0</td>\n",
       "      <td>0.505473</td>\n",
       "      <td>0.014151</td>\n",
       "      <td>1.0</td>\n",
       "      <td>0.0</td>\n",
       "    </tr>\n",
       "    <tr>\n",
       "      <th>416</th>\n",
       "      <td>1.0</td>\n",
       "      <td>0.0</td>\n",
       "      <td>0.396975</td>\n",
       "      <td>0.015713</td>\n",
       "      <td>1.0</td>\n",
       "      <td>0.0</td>\n",
       "    </tr>\n",
       "    <tr>\n",
       "      <th>417</th>\n",
       "      <td>1.0</td>\n",
       "      <td>0.0</td>\n",
       "      <td>0.396975</td>\n",
       "      <td>0.043640</td>\n",
       "      <td>0.0</td>\n",
       "      <td>0.2</td>\n",
       "    </tr>\n",
       "  </tbody>\n",
       "</table>\n",
       "<p>418 rows × 6 columns</p>\n",
       "</div>"
      ],
      "text/plain": [
       "     Pclass  Sex       Age      Fare  Embarked  Family\n",
       "0       1.0  0.0  0.452723  0.015282       0.5     0.0\n",
       "1       1.0  1.0  0.617566  0.013663       1.0     0.1\n",
       "2       0.5  0.0  0.815377  0.018909       0.5     0.0\n",
       "3       1.0  0.0  0.353818  0.016908       1.0     0.0\n",
       "4       1.0  1.0  0.287881  0.023984       1.0     0.2\n",
       "..      ...  ...       ...       ...       ...     ...\n",
       "413     1.0  0.0  0.396975  0.015713       1.0     0.0\n",
       "414     0.0  1.0  0.512066  0.212559       0.0     0.0\n",
       "415     1.0  0.0  0.505473  0.014151       1.0     0.0\n",
       "416     1.0  0.0  0.396975  0.015713       1.0     0.0\n",
       "417     1.0  0.0  0.396975  0.043640       0.0     0.2\n",
       "\n",
       "[418 rows x 6 columns]"
      ]
     },
     "execution_count": 84,
     "metadata": {},
     "output_type": "execute_result"
    }
   ],
   "source": [
    "from sklearn import preprocessing\n",
    "from sklearn.preprocessing import MinMaxScaler\n",
    "scaler = MinMaxScaler()\n",
    "test_df = pd.DataFrame(scaler.fit_transform(test_df), columns=test_df.columns)\n",
    "\n",
    "test_df"
   ]
  },
  {
   "cell_type": "code",
   "execution_count": 85,
   "metadata": {
    "execution": {
     "iopub.execute_input": "2021-03-13T07:46:46.815514Z",
     "iopub.status.busy": "2021-03-13T07:46:46.814576Z",
     "iopub.status.idle": "2021-03-13T07:46:46.828205Z",
     "shell.execute_reply": "2021-03-13T07:46:46.827734Z"
    },
    "papermill": {
     "duration": 0.092633,
     "end_time": "2021-03-13T07:46:46.828343",
     "exception": false,
     "start_time": "2021-03-13T07:46:46.735710",
     "status": "completed"
    },
    "tags": []
   },
   "outputs": [
    {
     "data": {
      "text/html": [
       "<div>\n",
       "<style scoped>\n",
       "    .dataframe tbody tr th:only-of-type {\n",
       "        vertical-align: middle;\n",
       "    }\n",
       "\n",
       "    .dataframe tbody tr th {\n",
       "        vertical-align: top;\n",
       "    }\n",
       "\n",
       "    .dataframe thead th {\n",
       "        text-align: right;\n",
       "    }\n",
       "</style>\n",
       "<table border=\"1\" class=\"dataframe\">\n",
       "  <thead>\n",
       "    <tr style=\"text-align: right;\">\n",
       "      <th></th>\n",
       "      <th>Pclass</th>\n",
       "      <th>Sex</th>\n",
       "      <th>Age</th>\n",
       "      <th>Fare</th>\n",
       "      <th>Embarked</th>\n",
       "      <th>Family</th>\n",
       "    </tr>\n",
       "  </thead>\n",
       "  <tbody>\n",
       "    <tr>\n",
       "      <th>0</th>\n",
       "      <td>1.0</td>\n",
       "      <td>0.0</td>\n",
       "      <td>0.271174</td>\n",
       "      <td>0.027567</td>\n",
       "      <td>1.0</td>\n",
       "      <td>0.142857</td>\n",
       "    </tr>\n",
       "    <tr>\n",
       "      <th>1</th>\n",
       "      <td>0.0</td>\n",
       "      <td>1.0</td>\n",
       "      <td>0.472229</td>\n",
       "      <td>0.271039</td>\n",
       "      <td>0.0</td>\n",
       "      <td>0.142857</td>\n",
       "    </tr>\n",
       "    <tr>\n",
       "      <th>2</th>\n",
       "      <td>1.0</td>\n",
       "      <td>1.0</td>\n",
       "      <td>0.321438</td>\n",
       "      <td>0.030133</td>\n",
       "      <td>1.0</td>\n",
       "      <td>0.000000</td>\n",
       "    </tr>\n",
       "    <tr>\n",
       "      <th>3</th>\n",
       "      <td>0.0</td>\n",
       "      <td>1.0</td>\n",
       "      <td>0.434531</td>\n",
       "      <td>0.201901</td>\n",
       "      <td>1.0</td>\n",
       "      <td>0.142857</td>\n",
       "    </tr>\n",
       "    <tr>\n",
       "      <th>4</th>\n",
       "      <td>1.0</td>\n",
       "      <td>0.0</td>\n",
       "      <td>0.434531</td>\n",
       "      <td>0.030608</td>\n",
       "      <td>1.0</td>\n",
       "      <td>0.000000</td>\n",
       "    </tr>\n",
       "  </tbody>\n",
       "</table>\n",
       "</div>"
      ],
      "text/plain": [
       "   Pclass  Sex       Age      Fare  Embarked    Family\n",
       "0     1.0  0.0  0.271174  0.027567       1.0  0.142857\n",
       "1     0.0  1.0  0.472229  0.271039       0.0  0.142857\n",
       "2     1.0  1.0  0.321438  0.030133       1.0  0.000000\n",
       "3     0.0  1.0  0.434531  0.201901       1.0  0.142857\n",
       "4     1.0  0.0  0.434531  0.030608       1.0  0.000000"
      ]
     },
     "execution_count": 85,
     "metadata": {},
     "output_type": "execute_result"
    }
   ],
   "source": [
    "x.head()"
   ]
  },
  {
   "cell_type": "code",
   "execution_count": 86,
   "metadata": {
    "execution": {
     "iopub.execute_input": "2021-03-13T07:46:46.994305Z",
     "iopub.status.busy": "2021-03-13T07:46:46.993636Z",
     "iopub.status.idle": "2021-03-13T07:46:46.996339Z",
     "shell.execute_reply": "2021-03-13T07:46:46.996844Z"
    },
    "papermill": {
     "duration": 0.092991,
     "end_time": "2021-03-13T07:46:46.997018",
     "exception": false,
     "start_time": "2021-03-13T07:46:46.904027",
     "status": "completed"
    },
    "tags": []
   },
   "outputs": [
    {
     "data": {
      "text/html": [
       "<div>\n",
       "<style scoped>\n",
       "    .dataframe tbody tr th:only-of-type {\n",
       "        vertical-align: middle;\n",
       "    }\n",
       "\n",
       "    .dataframe tbody tr th {\n",
       "        vertical-align: top;\n",
       "    }\n",
       "\n",
       "    .dataframe thead th {\n",
       "        text-align: right;\n",
       "    }\n",
       "</style>\n",
       "<table border=\"1\" class=\"dataframe\">\n",
       "  <thead>\n",
       "    <tr style=\"text-align: right;\">\n",
       "      <th></th>\n",
       "      <th>Survived</th>\n",
       "      <th>Pclass</th>\n",
       "      <th>Sex</th>\n",
       "      <th>Age</th>\n",
       "      <th>Fare</th>\n",
       "      <th>Embarked</th>\n",
       "      <th>Family</th>\n",
       "    </tr>\n",
       "  </thead>\n",
       "  <tbody>\n",
       "    <tr>\n",
       "      <th>0</th>\n",
       "      <td>0.0</td>\n",
       "      <td>1.0</td>\n",
       "      <td>0.0</td>\n",
       "      <td>0.271174</td>\n",
       "      <td>0.027567</td>\n",
       "      <td>1.0</td>\n",
       "      <td>0.142857</td>\n",
       "    </tr>\n",
       "    <tr>\n",
       "      <th>1</th>\n",
       "      <td>1.0</td>\n",
       "      <td>0.0</td>\n",
       "      <td>1.0</td>\n",
       "      <td>0.472229</td>\n",
       "      <td>0.271039</td>\n",
       "      <td>0.0</td>\n",
       "      <td>0.142857</td>\n",
       "    </tr>\n",
       "    <tr>\n",
       "      <th>2</th>\n",
       "      <td>1.0</td>\n",
       "      <td>1.0</td>\n",
       "      <td>1.0</td>\n",
       "      <td>0.321438</td>\n",
       "      <td>0.030133</td>\n",
       "      <td>1.0</td>\n",
       "      <td>0.000000</td>\n",
       "    </tr>\n",
       "    <tr>\n",
       "      <th>3</th>\n",
       "      <td>1.0</td>\n",
       "      <td>0.0</td>\n",
       "      <td>1.0</td>\n",
       "      <td>0.434531</td>\n",
       "      <td>0.201901</td>\n",
       "      <td>1.0</td>\n",
       "      <td>0.142857</td>\n",
       "    </tr>\n",
       "    <tr>\n",
       "      <th>4</th>\n",
       "      <td>0.0</td>\n",
       "      <td>1.0</td>\n",
       "      <td>0.0</td>\n",
       "      <td>0.434531</td>\n",
       "      <td>0.030608</td>\n",
       "      <td>1.0</td>\n",
       "      <td>0.000000</td>\n",
       "    </tr>\n",
       "  </tbody>\n",
       "</table>\n",
       "</div>"
      ],
      "text/plain": [
       "   Survived  Pclass  Sex       Age      Fare  Embarked    Family\n",
       "0       0.0     1.0  0.0  0.271174  0.027567       1.0  0.142857\n",
       "1       1.0     0.0  1.0  0.472229  0.271039       0.0  0.142857\n",
       "2       1.0     1.0  1.0  0.321438  0.030133       1.0  0.000000\n",
       "3       1.0     0.0  1.0  0.434531  0.201901       1.0  0.142857\n",
       "4       0.0     1.0  0.0  0.434531  0.030608       1.0  0.000000"
      ]
     },
     "execution_count": 86,
     "metadata": {},
     "output_type": "execute_result"
    }
   ],
   "source": [
    "df.head()"
   ]
  },
  {
   "cell_type": "code",
   "execution_count": null,
   "metadata": {
    "papermill": {
     "duration": 0.076993,
     "end_time": "2021-03-13T07:46:47.151234",
     "exception": false,
     "start_time": "2021-03-13T07:46:47.074241",
     "status": "completed"
    },
    "tags": []
   },
   "outputs": [],
   "source": []
  },
  {
   "cell_type": "code",
   "execution_count": 87,
   "metadata": {
    "execution": {
     "iopub.execute_input": "2021-03-13T07:46:47.310739Z",
     "iopub.status.busy": "2021-03-13T07:46:47.310039Z",
     "iopub.status.idle": "2021-03-13T07:46:47.383609Z",
     "shell.execute_reply": "2021-03-13T07:46:47.382848Z"
    },
    "papermill": {
     "duration": 0.154811,
     "end_time": "2021-03-13T07:46:47.383758",
     "exception": false,
     "start_time": "2021-03-13T07:46:47.228947",
     "status": "completed"
    },
    "tags": []
   },
   "outputs": [],
   "source": [
    "test_pred = random_tree_clf.predict(test_df)\n"
   ]
  },
  {
   "cell_type": "code",
   "execution_count": 88,
   "metadata": {
    "execution": {
     "iopub.execute_input": "2021-03-13T07:46:47.541922Z",
     "iopub.status.busy": "2021-03-13T07:46:47.540960Z",
     "iopub.status.idle": "2021-03-13T07:46:47.544481Z",
     "shell.execute_reply": "2021-03-13T07:46:47.544939Z"
    },
    "papermill": {
     "duration": 0.084563,
     "end_time": "2021-03-13T07:46:47.545124",
     "exception": false,
     "start_time": "2021-03-13T07:46:47.460561",
     "status": "completed"
    },
    "tags": []
   },
   "outputs": [
    {
     "data": {
      "text/plain": [
       "(418,)"
      ]
     },
     "execution_count": 88,
     "metadata": {},
     "output_type": "execute_result"
    }
   ],
   "source": [
    "test_pred.shape"
   ]
  },
  {
   "cell_type": "code",
   "execution_count": 89,
   "metadata": {
    "execution": {
     "iopub.execute_input": "2021-03-13T07:46:47.701182Z",
     "iopub.status.busy": "2021-03-13T07:46:47.700321Z",
     "iopub.status.idle": "2021-03-13T07:46:47.710704Z",
     "shell.execute_reply": "2021-03-13T07:46:47.709961Z"
    },
    "papermill": {
     "duration": 0.089229,
     "end_time": "2021-03-13T07:46:47.710862",
     "exception": false,
     "start_time": "2021-03-13T07:46:47.621633",
     "status": "completed"
    },
    "tags": []
   },
   "outputs": [
    {
     "data": {
      "text/plain": [
       "(418, 11)"
      ]
     },
     "execution_count": 89,
     "metadata": {},
     "output_type": "execute_result"
    }
   ],
   "source": [
    "test_df1=pd.read_csv(\"/kaggle/input/titanic/test.csv\")\n",
    "test_df1.shape"
   ]
  },
  {
   "cell_type": "code",
   "execution_count": 90,
   "metadata": {
    "execution": {
     "iopub.execute_input": "2021-03-13T07:46:47.876724Z",
     "iopub.status.busy": "2021-03-13T07:46:47.875723Z",
     "iopub.status.idle": "2021-03-13T07:46:47.879164Z",
     "shell.execute_reply": "2021-03-13T07:46:47.878657Z"
    },
    "papermill": {
     "duration": 0.089541,
     "end_time": "2021-03-13T07:46:47.879300",
     "exception": false,
     "start_time": "2021-03-13T07:46:47.789759",
     "status": "completed"
    },
    "tags": []
   },
   "outputs": [],
   "source": [
    "final=pd.DataFrame(test_df1['PassengerId'])\n",
    "final['Survived']=test_pred"
   ]
  },
  {
   "cell_type": "code",
   "execution_count": 91,
   "metadata": {
    "execution": {
     "iopub.execute_input": "2021-03-13T07:46:48.043780Z",
     "iopub.status.busy": "2021-03-13T07:46:48.042902Z",
     "iopub.status.idle": "2021-03-13T07:46:48.047246Z",
     "shell.execute_reply": "2021-03-13T07:46:48.046784Z"
    },
    "papermill": {
     "duration": 0.090325,
     "end_time": "2021-03-13T07:46:48.047381",
     "exception": false,
     "start_time": "2021-03-13T07:46:47.957056",
     "status": "completed"
    },
    "tags": []
   },
   "outputs": [
    {
     "data": {
      "text/html": [
       "<div>\n",
       "<style scoped>\n",
       "    .dataframe tbody tr th:only-of-type {\n",
       "        vertical-align: middle;\n",
       "    }\n",
       "\n",
       "    .dataframe tbody tr th {\n",
       "        vertical-align: top;\n",
       "    }\n",
       "\n",
       "    .dataframe thead th {\n",
       "        text-align: right;\n",
       "    }\n",
       "</style>\n",
       "<table border=\"1\" class=\"dataframe\">\n",
       "  <thead>\n",
       "    <tr style=\"text-align: right;\">\n",
       "      <th></th>\n",
       "      <th>PassengerId</th>\n",
       "      <th>Survived</th>\n",
       "    </tr>\n",
       "  </thead>\n",
       "  <tbody>\n",
       "    <tr>\n",
       "      <th>0</th>\n",
       "      <td>892</td>\n",
       "      <td>0.0</td>\n",
       "    </tr>\n",
       "    <tr>\n",
       "      <th>1</th>\n",
       "      <td>893</td>\n",
       "      <td>0.0</td>\n",
       "    </tr>\n",
       "    <tr>\n",
       "      <th>2</th>\n",
       "      <td>894</td>\n",
       "      <td>0.0</td>\n",
       "    </tr>\n",
       "    <tr>\n",
       "      <th>3</th>\n",
       "      <td>895</td>\n",
       "      <td>0.0</td>\n",
       "    </tr>\n",
       "    <tr>\n",
       "      <th>4</th>\n",
       "      <td>896</td>\n",
       "      <td>1.0</td>\n",
       "    </tr>\n",
       "  </tbody>\n",
       "</table>\n",
       "</div>"
      ],
      "text/plain": [
       "   PassengerId  Survived\n",
       "0          892       0.0\n",
       "1          893       0.0\n",
       "2          894       0.0\n",
       "3          895       0.0\n",
       "4          896       1.0"
      ]
     },
     "execution_count": 91,
     "metadata": {},
     "output_type": "execute_result"
    }
   ],
   "source": [
    "final.head()"
   ]
  },
  {
   "cell_type": "code",
   "execution_count": 92,
   "metadata": {
    "execution": {
     "iopub.execute_input": "2021-03-13T07:46:48.207551Z",
     "iopub.status.busy": "2021-03-13T07:46:48.206571Z",
     "iopub.status.idle": "2021-03-13T07:46:48.213978Z",
     "shell.execute_reply": "2021-03-13T07:46:48.213301Z"
    },
    "papermill": {
     "duration": 0.089455,
     "end_time": "2021-03-13T07:46:48.214156",
     "exception": false,
     "start_time": "2021-03-13T07:46:48.124701",
     "status": "completed"
    },
    "tags": []
   },
   "outputs": [],
   "source": [
    "final.to_csv(\"final.csv\", index=False)"
   ]
  },
  {
   "cell_type": "code",
   "execution_count": 93,
   "metadata": {
    "execution": {
     "iopub.execute_input": "2021-03-13T07:46:48.376881Z",
     "iopub.status.busy": "2021-03-13T07:46:48.375936Z",
     "iopub.status.idle": "2021-03-13T07:46:48.382457Z",
     "shell.execute_reply": "2021-03-13T07:46:48.381749Z"
    },
    "papermill": {
     "duration": 0.089349,
     "end_time": "2021-03-13T07:46:48.382605",
     "exception": false,
     "start_time": "2021-03-13T07:46:48.293256",
     "status": "completed"
    },
    "tags": []
   },
   "outputs": [],
   "source": [
    "final_df=pd.read_csv(\"final.csv\")"
   ]
  },
  {
   "cell_type": "code",
   "execution_count": 94,
   "metadata": {
    "execution": {
     "iopub.execute_input": "2021-03-13T07:46:48.543708Z",
     "iopub.status.busy": "2021-03-13T07:46:48.543089Z",
     "iopub.status.idle": "2021-03-13T07:46:48.551262Z",
     "shell.execute_reply": "2021-03-13T07:46:48.551684Z"
    },
    "papermill": {
     "duration": 0.089281,
     "end_time": "2021-03-13T07:46:48.551856",
     "exception": false,
     "start_time": "2021-03-13T07:46:48.462575",
     "status": "completed"
    },
    "tags": []
   },
   "outputs": [
    {
     "data": {
      "text/html": [
       "<div>\n",
       "<style scoped>\n",
       "    .dataframe tbody tr th:only-of-type {\n",
       "        vertical-align: middle;\n",
       "    }\n",
       "\n",
       "    .dataframe tbody tr th {\n",
       "        vertical-align: top;\n",
       "    }\n",
       "\n",
       "    .dataframe thead th {\n",
       "        text-align: right;\n",
       "    }\n",
       "</style>\n",
       "<table border=\"1\" class=\"dataframe\">\n",
       "  <thead>\n",
       "    <tr style=\"text-align: right;\">\n",
       "      <th></th>\n",
       "      <th>PassengerId</th>\n",
       "      <th>Survived</th>\n",
       "    </tr>\n",
       "  </thead>\n",
       "  <tbody>\n",
       "    <tr>\n",
       "      <th>0</th>\n",
       "      <td>892</td>\n",
       "      <td>0.0</td>\n",
       "    </tr>\n",
       "    <tr>\n",
       "      <th>1</th>\n",
       "      <td>893</td>\n",
       "      <td>0.0</td>\n",
       "    </tr>\n",
       "    <tr>\n",
       "      <th>2</th>\n",
       "      <td>894</td>\n",
       "      <td>0.0</td>\n",
       "    </tr>\n",
       "    <tr>\n",
       "      <th>3</th>\n",
       "      <td>895</td>\n",
       "      <td>0.0</td>\n",
       "    </tr>\n",
       "    <tr>\n",
       "      <th>4</th>\n",
       "      <td>896</td>\n",
       "      <td>1.0</td>\n",
       "    </tr>\n",
       "  </tbody>\n",
       "</table>\n",
       "</div>"
      ],
      "text/plain": [
       "   PassengerId  Survived\n",
       "0          892       0.0\n",
       "1          893       0.0\n",
       "2          894       0.0\n",
       "3          895       0.0\n",
       "4          896       1.0"
      ]
     },
     "execution_count": 94,
     "metadata": {},
     "output_type": "execute_result"
    }
   ],
   "source": [
    "final_df.head()"
   ]
  },
  {
   "cell_type": "code",
   "execution_count": null,
   "metadata": {
    "papermill": {
     "duration": 0.07805,
     "end_time": "2021-03-13T07:46:48.708490",
     "exception": false,
     "start_time": "2021-03-13T07:46:48.630440",
     "status": "completed"
    },
    "tags": []
   },
   "outputs": [],
   "source": []
  }
 ],
 "metadata": {
  "kernelspec": {
   "display_name": "Python 3",
   "language": "python",
   "name": "python3"
  },
  "language_info": {
   "codemirror_mode": {
    "name": "ipython",
    "version": 3
   },
   "file_extension": ".py",
   "mimetype": "text/x-python",
   "name": "python",
   "nbconvert_exporter": "python",
   "pygments_lexer": "ipython3",
   "version": "3.7.4"
  },
  "papermill": {
   "default_parameters": {},
   "duration": 35.686324,
   "end_time": "2021-03-13T07:46:49.495805",
   "environment_variables": {},
   "exception": null,
   "input_path": "__notebook__.ipynb",
   "output_path": "__notebook__.ipynb",
   "parameters": {},
   "start_time": "2021-03-13T07:46:13.809481",
   "version": "2.2.2"
  }
 },
 "nbformat": 4,
 "nbformat_minor": 4
}
